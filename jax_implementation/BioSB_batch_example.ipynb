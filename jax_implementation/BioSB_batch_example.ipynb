{
 "cells": [
  {
   "cell_type": "code",
   "execution_count": 1,
   "metadata": {},
   "outputs": [],
   "source": [
    "\n",
    "import diffrax\n",
    "from diffrax import diffeqsolve, ODETerm, Dopri5,SaveAt\n",
    "import numpy as np\n",
    "import jax.numpy as jnp\n",
    "import jax\n",
    "\n",
    "import equinox as eqx  # https://github.com/patrick-kidger/equinox\n",
    "import matplotlib.pyplot as plt\n",
    "import optax\n",
    "import pandas as pd\n",
    "import logging\n",
    "\n",
    "logging.basicConfig(filename='errors.log', level=logging.ERROR)\n",
    "jax.config.update(\"jax_enable_x64\", True)"
   ]
  },
  {
   "cell_type": "code",
   "execution_count": 2,
   "metadata": {},
   "outputs": [
    {
     "name": "stdout",
     "output_type": "stream",
     "text": [
      "[{'p_qsmax': -0.1547625959528065, 'p_Ks': 0.023775849754291825, 'p_a': -1.40669506045701, 'p_ms': -0.19469329161409285}, {'p_qsmax': -0.47597850181516793, 'p_Ks': 0.007747246838751909, 'p_a': -1.7993712726470095, 'p_ms': -0.03324463446137696}, {'p_qsmax': -0.342213142468114, 'p_Ks': 0.00517601916435646, 'p_a': -1.7761647699174785, 'p_ms': -0.05053198275101878}, {'p_qsmax': -0.4295288483950921, 'p_Ks': 0.09799252258518087, 'p_a': -1.6582878220970336, 'p_ms': -0.04235035162223133}, {'p_qsmax': -0.21717978262861637, 'p_Ks': 0.05154037088700001, 'p_a': -1.4939140876664792, 'p_ms': -0.07125158884967359}, {'p_qsmax': -0.1976128600256573, 'p_Ks': 0.04918944129262453, 'p_a': -1.6993950749294902, 'p_ms': -0.06023219466856339}, {'p_qsmax': -0.2962773730550806, 'p_Ks': 0.06450993049626282, 'p_a': -1.5440299776946675, 'p_ms': -0.18610221093771215}, {'p_qsmax': -0.2391477997392622, 'p_Ks': 0.06024905925042347, 'p_a': -1.7046927590112242, 'p_ms': -0.12232689387892988}, {'p_qsmax': -0.4977664625121432, 'p_Ks': 0.018306282500720673, 'p_a': -1.7705898312737067, 'p_ms': -0.10019524383313878}, {'p_qsmax': -0.4988999056133457, 'p_Ks': 0.026831461804644588, 'p_a': -1.4031500865936721, 'p_ms': -0.18200106544859296}, {'p_qsmax': -0.2687562887590704, 'p_Ks': 0.058021697274221865, 'p_a': -1.5503506825265363, 'p_ms': -0.10158249255512591}, {'p_qsmax': -0.3770076609415851, 'p_Ks': 0.043707834809911576, 'p_a': -1.5816394804557636, 'p_ms': -0.019559385393549428}, {'p_qsmax': -0.2870798979624254, 'p_Ks': 0.03361636438976615, 'p_a': -1.4830633508447002, 'p_ms': -0.1668665563029444}, {'p_qsmax': -0.3842888913962387, 'p_Ks': 0.09240253222744495, 'p_a': -1.406583809279579, 'p_ms': -0.03901404151671578}, {'p_qsmax': -0.2229099689281664, 'p_Ks': 0.09034406159047427, 'p_a': -1.5424541397289953, 'p_ms': -0.08287609896173323}, {'p_qsmax': -0.4998308482827248, 'p_Ks': 0.0668236178951123, 'p_a': -1.5861531151692672, 'p_ms': -0.13013913896467366}, {'p_qsmax': -0.15212166467826238, 'p_Ks': 0.04117849248513519, 'p_a': -1.5689923539494037, 'p_ms': -0.1542853340028558}, {'p_qsmax': -0.3916044395302479, 'p_Ks': 0.03524983702043059, 'p_a': -1.760714441698574, 'p_ms': -0.03924128257405715}, {'p_qsmax': -0.25733112504854494, 'p_Ks': 0.029509726877208278, 'p_a': -1.5099820688117336, 'p_ms': -0.16054195251430067}, {'p_qsmax': -0.2857273464913705, 'p_Ks': 0.017194792483782452, 'p_a': -1.431496747485447, 'p_ms': -0.13304352471929237}, {'p_qsmax': -0.4805988979097353, 'p_Ks': 0.003759600390566076, 'p_a': -1.5400292422724182, 'p_ms': -0.1815291312333912}, {'p_qsmax': -0.13450442665567935, 'p_Ks': 0.07833627458541925, 'p_a': -1.4216624132919171, 'p_ms': -0.06288700457558338}, {'p_qsmax': -0.4103772233321012, 'p_Ks': 0.0978041909637592, 'p_a': -1.7590612214882753, 'p_ms': -0.0994777550171409}, {'p_qsmax': -0.29483476478240384, 'p_Ks': 0.03978043805650897, 'p_a': -1.660737826750585, 'p_ms': -0.05877607717029612}, {'p_qsmax': -0.3569070748319372, 'p_Ks': 0.008821421104712046, 'p_a': -1.7564719125135368, 'p_ms': -0.1439111890952175}, {'p_qsmax': -0.3976773961771285, 'p_Ks': 0.07258987277696316, 'p_a': -1.4644319251894629, 'p_ms': -0.1698735573581319}, {'p_qsmax': -0.46212761646820233, 'p_Ks': 0.06521661759511078, 'p_a': -1.4438010386612967, 'p_ms': -0.1681245289135061}, {'p_qsmax': -0.44586598871508626, 'p_Ks': 0.06148747272274736, 'p_a': -1.6295985670803956, 'p_ms': -0.11150753815611475}, {'p_qsmax': -0.10191681590793578, 'p_Ks': 0.00499224899783185, 'p_a': -1.7517032991736392, 'p_ms': -0.08649501444818031}, {'p_qsmax': -0.26443632843088816, 'p_Ks': 0.09132236385593073, 'p_a': -1.4905191086526497, 'p_ms': -0.17350062220510667}, {'p_qsmax': -0.13752013727525825, 'p_Ks': 0.09472706340546111, 'p_a': -1.4784837953045984, 'p_ms': -0.16537859190554555}, {'p_qsmax': -0.4250830156695877, 'p_Ks': 0.058033964319101766, 'p_a': -1.4546098520765263, 'p_ms': -0.07406303545984014}, {'p_qsmax': -0.37175084579715356, 'p_Ks': 0.052355751745396396, 'p_a': -1.542630833255681, 'p_ms': -0.06930360739372787}, {'p_qsmax': -0.22244466745640806, 'p_Ks': 0.07095496465666724, 'p_a': -1.5780982018992629, 'p_ms': -0.027557345298106217}, {'p_qsmax': -0.24671845637699358, 'p_Ks': 0.05396977852297738, 'p_a': -1.4956212157901296, 'p_ms': -0.09798929718137012}, {'p_qsmax': -0.3574255889228227, 'p_Ks': 0.03798100400758486, 'p_a': -1.531061838714268, 'p_ms': -0.11111354129678226}, {'p_qsmax': -0.1661438496291131, 'p_Ks': 0.032035538832349476, 'p_a': -1.6456175447591022, 'p_ms': -0.011883793574029078}, {'p_qsmax': -0.4376583167365055, 'p_Ks': 0.08502238278328278, 'p_a': -1.540211515081203, 'p_ms': -0.017661901737781316}, {'p_qsmax': -0.1582882737725847, 'p_Ks': 0.08516523873493499, 'p_a': -1.6908052909410374, 'p_ms': -0.05358369625870782}, {'p_qsmax': -0.10566220878886484, 'p_Ks': 0.05208546272344299, 'p_a': -1.7495857111177622, 'p_ms': -0.11136516851507308}, {'p_qsmax': -0.3560857147195132, 'p_Ks': 0.07074452060004979, 'p_a': -1.6357938861177526, 'p_ms': -0.09653909169558586}, {'p_qsmax': -0.363108210043243, 'p_Ks': 0.04690986147437379, 'p_a': -1.7883222263687586, 'p_ms': -0.1643349067362255}, {'p_qsmax': -0.2670326576154955, 'p_Ks': 0.045350254157365405, 'p_a': -1.6063184593453617, 'p_ms': -0.036348672154355804}, {'p_qsmax': -0.2635313054384282, 'p_Ks': 0.06793371863511677, 'p_a': -1.4671184245126303, 'p_ms': -0.03301940148761362}, {'p_qsmax': -0.16855310733825463, 'p_Ks': 0.04136737999242928, 'p_a': -1.6402067673637353, 'p_ms': -0.19223600360904808}, {'p_qsmax': -0.18061754824832515, 'p_Ks': 0.08228770131124306, 'p_a': -1.4501892803032697, 'p_ms': -0.008673317198279629}, {'p_qsmax': -0.41420154930477565, 'p_Ks': 0.03145383156728473, 'p_a': -1.5532128692464493, 'p_ms': -0.07318267378138513}, {'p_qsmax': -0.48588234927576124, 'p_Ks': 0.006769903740714667, 'p_a': -1.6993831046527124, 'p_ms': -0.014605067661369653}, {'p_qsmax': -0.3377449065037431, 'p_Ks': 0.06005030875316893, 'p_a': -1.7008522686848448, 'p_ms': -0.09060115031830121}, {'p_qsmax': -0.3008751951631362, 'p_Ks': 0.05816103552911868, 'p_a': -1.5935522575775147, 'p_ms': -0.0013949601065542105}, {'p_qsmax': -0.34640796147053016, 'p_Ks': 0.0611813567142748, 'p_a': -1.708982485374235, 'p_ms': -0.08398217885050702}, {'p_qsmax': -0.132387649980165, 'p_Ks': 0.028686873294621773, 'p_a': -1.509037948601186, 'p_ms': -0.15315652435617644}, {'p_qsmax': -0.3777565441911936, 'p_Ks': 0.07520532710456906, 'p_a': -1.6378616867662146, 'p_ms': -0.15484242927585715}, {'p_qsmax': -0.41009347762598136, 'p_Ks': 0.06053212458024296, 'p_a': -1.7621553285522913, 'p_ms': -0.12757792578259536}, {'p_qsmax': -0.3332970692083651, 'p_Ks': 0.020630545628677346, 'p_a': -1.495882195569021, 'p_ms': -0.19243728993293507}, {'p_qsmax': -0.1016109653614588, 'p_Ks': 0.07184509272358572, 'p_a': -1.4308323702690513, 'p_ms': -0.1186041725423178}, {'p_qsmax': -0.32066667543258554, 'p_Ks': 0.07010646094930248, 'p_a': -1.6783295327576897, 'p_ms': -0.10620655113776822}, {'p_qsmax': -0.4467483078616962, 'p_Ks': 0.09781833188562156, 'p_a': -1.4966253814648023, 'p_ms': -0.12508203754643138}, {'p_qsmax': -0.10168327215600431, 'p_Ks': 0.08504049655781583, 'p_a': -1.4991146081100408, 'p_ms': -0.10488101733341178}, {'p_qsmax': -0.45958632589638293, 'p_Ks': 0.08733761818087174, 'p_a': -1.508664113293547, 'p_ms': -0.05737068722769001}, {'p_qsmax': -0.344960655830057, 'p_Ks': 0.05310463649604391, 'p_a': -1.6776357703188098, 'p_ms': -0.04644266237810529}, {'p_qsmax': -0.3970501464668582, 'p_Ks': 0.07401856033848125, 'p_a': -1.629592643293111, 'p_ms': -0.13246472670288806}, {'p_qsmax': -0.22203473667094004, 'p_Ks': 0.0019002574383494065, 'p_a': -1.4572876248735642, 'p_ms': -0.020815774443391666}, {'p_qsmax': -0.42510271061347743, 'p_Ks': 0.06615961393146629, 'p_a': -1.4682004792862098, 'p_ms': -0.09397288723202997}, {'p_qsmax': -0.436729794615694, 'p_Ks': 0.06059994069658356, 'p_a': -1.5132400432510371, 'p_ms': -0.15983949940618133}, {'p_qsmax': -0.13871505324828282, 'p_Ks': 0.032164931210594765, 'p_a': -1.4201805433878323, 'p_ms': -0.07984161583632184}, {'p_qsmax': -0.3691670951839686, 'p_Ks': 0.09584110284069913, 'p_a': -1.4933911316629376, 'p_ms': -0.09084395284344982}, {'p_qsmax': -0.13345597088059957, 'p_Ks': 0.09870199533315792, 'p_a': -1.723095336964087, 'p_ms': -0.07960048930903552}, {'p_qsmax': -0.4098497989652173, 'p_Ks': 0.021625985512828218, 'p_a': -1.5343409270063932, 'p_ms': -0.18293786733838996}, {'p_qsmax': -0.40763859375173717, 'p_Ks': 0.037781265153255875, 'p_a': -1.7516527834169124, 'p_ms': -0.08573043093694065}, {'p_qsmax': -0.19908368956948352, 'p_Ks': 0.006145620157439003, 'p_a': -1.6926215585751168, 'p_ms': -0.11810754012968477}, {'p_qsmax': -0.3070115407026723, 'p_Ks': 0.004160366066974264, 'p_a': -1.6476956463869858, 'p_ms': -0.02684245046389061}, {'p_qsmax': -0.2771777718033317, 'p_Ks': 0.0777021301122599, 'p_a': -1.7065864440947935, 'p_ms': -0.09759898090003183}, {'p_qsmax': -0.14229577714019093, 'p_Ks': 0.044187473386733504, 'p_a': -1.7810579993001734, 'p_ms': -0.1997510826588182}, {'p_qsmax': -0.38874772929949153, 'p_Ks': 0.016012673656884635, 'p_a': -1.7599163488750027, 'p_ms': -0.16970967819893856}, {'p_qsmax': -0.1172062072812372, 'p_Ks': 0.02546032196417939, 'p_a': -1.5224568902841933, 'p_ms': -0.07482691191694077}, {'p_qsmax': -0.35642523905300083, 'p_Ks': 0.07984378105579024, 'p_a': -1.6556383600948075, 'p_ms': -0.13398686551059358}, {'p_qsmax': -0.46298634194101235, 'p_Ks': 0.09764490109459924, 'p_a': -1.502317871975264, 'p_ms': -0.13892465214944183}, {'p_qsmax': -0.27182273844028554, 'p_Ks': 0.01818876979896238, 'p_a': -1.55728501675403, 'p_ms': -0.11571828247655963}, {'p_qsmax': -0.28436320471459, 'p_Ks': 0.08411987094225254, 'p_a': -1.7627645997720325, 'p_ms': -0.1891628151372372}, {'p_qsmax': -0.4980746074241641, 'p_Ks': 0.022060625861880713, 'p_a': -1.5197748420881503, 'p_ms': -0.15660639896116751}, {'p_qsmax': -0.2526299000737534, 'p_Ks': 0.08633137163345705, 'p_a': -1.415090990833205, 'p_ms': -0.031012815275966055}, {'p_qsmax': -0.10113512372533401, 'p_Ks': 0.016380134959098205, 'p_a': -1.543739916337175, 'p_ms': -0.15553576330381524}, {'p_qsmax': -0.14130230167569552, 'p_Ks': 0.008083607634938983, 'p_a': -1.7894418074733243, 'p_ms': -0.18144277064181116}, {'p_qsmax': -0.3334032144544343, 'p_Ks': 0.07078086246514173, 'p_a': -1.791852123377136, 'p_ms': -0.0960449177625402}, {'p_qsmax': -0.4769097295512099, 'p_Ks': 0.08965135640064996, 'p_a': -1.496821705498585, 'p_ms': -0.1089465678684414}, {'p_qsmax': -0.20761025455671012, 'p_Ks': 0.022460479079538277, 'p_a': -1.7544999884169534, 'p_ms': -0.1147600193983541}, {'p_qsmax': -0.4548150171056889, 'p_Ks': 0.05654434652458961, 'p_a': -1.7384086883330951, 'p_ms': -0.16898308186579897}, {'p_qsmax': -0.3330864116166787, 'p_Ks': 0.0001897153432106058, 'p_a': -1.5203376776598247, 'p_ms': -0.06662003629005389}, {'p_qsmax': -0.28748762073549455, 'p_Ks': 0.05474061559206453, 'p_a': -1.4812075479539701, 'p_ms': -0.00960523211526551}, {'p_qsmax': -0.11838562150491133, 'p_Ks': 0.04288408334003503, 'p_a': -1.6466535618884817, 'p_ms': -0.05004550835118168}, {'p_qsmax': -0.1184993286740817, 'p_Ks': 0.028285865005136836, 'p_a': -1.410969548024656, 'p_ms': -0.1827577040065318}, {'p_qsmax': -0.4699331023584079, 'p_Ks': 0.08304318777665654, 'p_a': -1.4333901530515558, 'p_ms': -0.05513004670322047}, {'p_qsmax': -0.4939322938167695, 'p_Ks': 0.009766288643568944, 'p_a': -1.4905487637457906, 'p_ms': -0.08560086137976558}, {'p_qsmax': -0.23866688479987835, 'p_Ks': 0.06381041114524985, 'p_a': -1.6283525514236472, 'p_ms': -0.05293457165883053}, {'p_qsmax': -0.429653208108335, 'p_Ks': 0.010240642656041866, 'p_a': -1.6002765227610116, 'p_ms': -0.10652189870709833}, {'p_qsmax': -0.1020377208961778, 'p_Ks': 0.01831183576349471, 'p_a': -1.647714063924338, 'p_ms': -0.03330716225572239}, {'p_qsmax': -0.2259182219161392, 'p_Ks': 0.01838693536945454, 'p_a': -1.6610042193274586, 'p_ms': -0.13793075904015273}, {'p_qsmax': -0.22505366517349107, 'p_Ks': 0.020194684321451273, 'p_a': -1.6761711608373582, 'p_ms': -0.15882287790341565}, {'p_qsmax': -0.3047212476911274, 'p_Ks': 0.02395691897900634, 'p_a': -1.761601258282564, 'p_ms': -0.06918255201125897}]\n"
     ]
    },
    {
     "name": "stderr",
     "output_type": "stream",
     "text": [
      "/tmp/ipykernel_54525/3821743987.py:70: DeprecationWarning: Conversion of an array with ndim > 0 to a scalar is deprecated, and will error in future. Ensure you extract a single element from your array before performing this operation. (Deprecated NumPy 1.25.)\n",
      "  random_init[name]=float(np.random.uniform(bounds[name]['lb'],bounds[name]['ub'],size=1))\n"
     ]
    },
    {
     "data": {
      "image/png": "[encoded data removed]",
      "text/plain": [
       "<Figure size 640x480 with 1 Axes>"
      ]
     },
     "metadata": {},
     "output_type": "display_data"
    }
   ],
   "source": [
    "params={\"p_qsmax\":-0.3,\"p_Ks\":0.01,\"p_a\":-1.6,\"p_ms\":-0.01}\n",
    "\n",
    "\n",
    "\n",
    "\n",
    "class Bioprocess_4p():\n",
    "    def __init__(self):\n",
    "        super().__init__()\n",
    "    \n",
    "    def __call__(self,t,y,args):\n",
    "        params=args[0]\n",
    "        \n",
    "        qs=params['p_qsmax']*(y[0]/(params['p_Ks']+y[0]))\n",
    "        qx=(qs-params['p_ms'])/params['p_a']\n",
    "\n",
    "        Rs=qs*y[1]\n",
    "        Rx=qx*y[1]\n",
    "        dY=jnp.stack([Rs,Rx])\n",
    "        return dY\n",
    "\n",
    "class NeuralODE():\n",
    "    func : Bioprocess_4p()\n",
    "\n",
    "    def __init__(self):\n",
    "        super().__init__()\n",
    "\n",
    "        self.func=Bioprocess_4p()\n",
    "\n",
    "    def __call__(self,ts,y0,params):\n",
    "        solution = diffrax.diffeqsolve(\n",
    "        diffrax.ODETerm(self.func),\n",
    "        diffrax.Kvaerno3(),\n",
    "        t0=ts[0],\n",
    "        t1=ts[-1],\n",
    "        dt0=ts[1] - ts[0],\n",
    "        y0=y0,\n",
    "        args=[params],\n",
    "        stepsize_controller=diffrax.PIDController(rtol=1e-3, atol=1e-8),\n",
    "        saveat=diffrax.SaveAt(ts=ts),\n",
    "        max_steps=10000\n",
    "        )\n",
    "        return solution.ys\n",
    "\n",
    "\n",
    "\n",
    "model_bioprocess=NeuralODE()\n",
    "model_bioprocess=jax.jit(model_bioprocess)\n",
    "\n",
    "ts=jnp.linspace(0,100,8)\n",
    "\n",
    "y_names=[\"S\",'Biomass']\n",
    "y0=jnp.array([3,0.1])\n",
    "\n",
    "ys=model_bioprocess(ts=ts,y0=y0,params=params)\n",
    "\n",
    "plt.scatter(ts,ys[:,0],label=y_names[0],linewidth=4,c=\"#00468BFF\")\n",
    "plt.scatter(ts,ys[:,1],label=y_names[1],linewidth=4,c=\"#ED0000FF\")\n",
    "plt.xlabel(\"Time (in hours)\")\n",
    "plt.ylabel(\"Concentrations\")\n",
    "\n",
    "\n",
    "\n",
    "def uniform_sampling(bounds,N):\n",
    "    \"\"\"Takes a uniform sample between lower and upperbound values\"\"\"\n",
    "    parameter_sets=[]\n",
    "    names=list(bounds.keys())\n",
    "    for i in range(N):\n",
    "        random_init={}\n",
    "        for name in names:\n",
    "            random_init[name]=float(np.random.uniform(bounds[name]['lb'],bounds[name]['ub'],size=1))\n",
    "        parameter_sets.append(random_init)\n",
    "\n",
    "    return parameter_sets\n",
    "\n",
    "##initialize prediction dataset\n",
    "bounds=pd.read_csv(\"batch_bounds.csv\",index_col=0).T\n",
    "\n",
    "\n",
    "bounds=dict(bounds)\n",
    "parameter_sets=uniform_sampling(bounds,100)\n",
    "print(parameter_sets)\n",
    "# print(params_initial_guess)\n",
    "# ts_ig=jnp.linspace(0,100,100)\n",
    "# ys_ig=model_bioprocess(ts=ts_ig,y0=y0,params=params_initial_guess)\n",
    "\n",
    "# plt.plot(ts_ig,ys_ig[:,0],label=\"S (initial guess)\",linewidth=2,c=\"#0099B4FF\")\n",
    "# plt.plot(ts_ig,ys_ig[:,1],label=\"X (initial guess)\",linewidth=2,c=\"#AD002AFF\")\n",
    "# plt.xlabel(\"Time (in hours)\")\n",
    "# plt.ylabel(\"Concentrations\")\n",
    "# plt.legend()"
   ]
  },
  {
   "cell_type": "code",
   "execution_count": 3,
   "metadata": {},
   "outputs": [],
   "source": [
    "# ### simple learning system to test whether grads works as expected\n",
    "def loss_func(params,ts,ys):\n",
    "    \"\"\"A very simple loss function, later we need to add functionality for missing data\"\"\"\n",
    "    yscale=jnp.max(ys,axis=0)-jnp.min(ys,axis=0)\n",
    "    ys=ys*(1/yscale)\n",
    "\n",
    "    y_pred=model_bioprocess(ts,y0,params)*(1/yscale)\n",
    "    return jnp.mean((ys - y_pred) ** 2)\n",
    "\n",
    "\n",
    "@jax.jit\n",
    "def update(opt_state,params,ts,ys):\n",
    "    \"\"\"Update rule for the gradients for parameters\"\"\"\n",
    "    loss=loss_func(params,ts,ys)\n",
    "    grads=jax.jit(jax.grad(loss_func,0))(params,ts,ys) #loss w.r.t. parameters\n",
    "    updates,opt_state=optimizer.update(grads,opt_state)\n",
    "    params = optax.apply_updates(params, updates)\n",
    "    return opt_state,params,loss,grads\n",
    "\n"
   ]
  },
  {
   "cell_type": "code",
   "execution_count": 4,
   "metadata": {},
   "outputs": [
    {
     "name": "stdout",
     "output_type": "stream",
     "text": [
      "0\n",
      "1\n",
      "2\n",
      "3\n",
      "4\n",
      "5\n",
      "6\n",
      "7\n",
      "8\n",
      "9\n",
      "10\n",
      "11\n",
      "12\n",
      "13\n",
      "14\n",
      "15\n",
      "16\n",
      "17\n",
      "18\n",
      "19\n",
      "20\n",
      "21\n",
      "22\n",
      "23\n",
      "24\n",
      "25\n",
      "26\n",
      "27\n",
      "28\n",
      "29\n",
      "30\n",
      "31\n",
      "32\n",
      "33\n",
      "34\n",
      "35\n",
      "36\n",
      "37\n",
      "38\n",
      "39\n",
      "40\n",
      "41\n",
      "42\n",
      "43\n",
      "44\n",
      "45\n",
      "46\n",
      "47\n",
      "48\n",
      "49\n",
      "50\n",
      "51\n",
      "52\n",
      "53\n",
      "54\n",
      "55\n",
      "56\n",
      "57\n",
      "58\n",
      "59\n",
      "60\n",
      "61\n",
      "62\n",
      "63\n",
      "64\n",
      "65\n",
      "66\n",
      "67\n",
      "68\n",
      "69\n",
      "70\n",
      "71\n",
      "72\n",
      "73\n",
      "74\n",
      "75\n",
      "76\n",
      "77\n",
      "78\n",
      "79\n",
      "80\n",
      "81\n",
      "82\n",
      "83\n",
      "84\n",
      "85\n",
      "86\n",
      "87\n",
      "88\n",
      "89\n",
      "90\n",
      "91\n",
      "92\n",
      "93\n",
      "94\n",
      "95\n",
      "96\n",
      "97\n",
      "98\n",
      "99\n"
     ]
    }
   ],
   "source": [
    "epochs=100\n",
    "\n",
    "\n",
    "\n",
    "loss_per_param={}\n",
    "final_loss=[]\n",
    "\n",
    "for i in range(len(parameter_sets)):\n",
    "    print(i)\n",
    "    params_init=parameter_sets[i]\n",
    "    lr=1e-4\n",
    "    optimizer = optax.adabelief(lr)\n",
    "    opt_state = optimizer.init(params_init)\n",
    "    loss_per_iter=[]\n",
    "    for _ in range(epochs):\n",
    "        try:\n",
    "            opt_state,params_init,loss,grads=update(opt_state,params_init,ts,ys)\n",
    "        except Exception as e:\n",
    "            logging.error(f\"Error for {i}: {e}\")\n",
    "        loss_per_iter.append(loss)\n",
    "    \n",
    "    final_loss.append(loss)\n",
    "\n",
    "    loss_per_param[i]=loss_per_iter\n"
   ]
  },
  {
   "cell_type": "code",
   "execution_count": 7,
   "metadata": {},
   "outputs": [
    {
     "data": {
      "text/plain": [
       "49"
      ]
     },
     "execution_count": 7,
     "metadata": {},
     "output_type": "execute_result"
    }
   ],
   "source": [
    "df=pd.DataFrame(loss_per_param)\n",
    "np.argmin(df.iloc[-1,:])"
   ]
  },
  {
   "cell_type": "code",
   "execution_count": 8,
   "metadata": {},
   "outputs": [],
   "source": [
    "\n",
    "params_init=parameter_sets[np.argmin(final_loss)]\n",
    "\n",
    "lr=1e-4\n",
    "optimizer = optax.adabelief(lr)\n",
    "opt_state = optimizer.init(params_init)\n",
    "epochs=1000\n",
    "\n",
    "\n",
    "losses=[]\n",
    "for _ in range(epochs):\n",
    "    try:\n",
    "        opt_state,params_init,loss,grads=update(opt_state,params_init,ts,ys)\n",
    "    except Exception as e:\n",
    "        logging.error(f\"Error for {i}: {e}\")\n",
    "    losses.append(loss)\n"
   ]
  },
  {
   "cell_type": "code",
   "execution_count": 46,
   "metadata": {},
   "outputs": [
    {
     "data": {
      "text/plain": [
       "Array(3.9453954e-07, dtype=float32)"
      ]
     },
     "execution_count": 46,
     "metadata": {},
     "output_type": "execute_result"
    }
   ],
   "source": [
    "loss"
   ]
  },
  {
   "cell_type": "code",
   "execution_count": 10,
   "metadata": {},
   "outputs": [
    {
     "data": {
      "text/plain": [
       "<matplotlib.legend.Legend at 0x7cccb8401220>"
      ]
     },
     "execution_count": 10,
     "metadata": {},
     "output_type": "execute_result"
    },
    {
     "data": {
      "image/png": "[encoded data removed]",
      "text/plain": [
       "<Figure size 640x480 with 1 Axes>"
      ]
     },
     "metadata": {},
     "output_type": "display_data"
    }
   ],
   "source": [
    "# plt.title(\"Training\")\n",
    "# plt.plot(losses[0:200])\n",
    "# plt.xlabel(\"iterations\")\n",
    "# plt.ylabel(\"Loss ($(y_{pred}-y_{true})**2$)\")\n",
    "\n",
    "t_pred=jnp.arange(0,100,0.1)\n",
    "ys_pred=model_bioprocess(t_pred,y0,params=params_init)\n",
    "\n",
    "\n",
    "ys_true=model_bioprocess(ts,y0,params=params)\n",
    "\n",
    "plt.plot(t_pred,ys_pred[:,0],label=\"S (fitted)\",linewidth=2,c=\"#0099B4FF\")\n",
    "plt.plot(t_pred,ys_pred[:,1],label=\"X (fitted)\",linewidth=2,c=\"#AD002AFF\")\n",
    "plt.scatter(ts,ys_true[:,0],label=\"S (ground truth)\",linewidth=2,c=\"#00468BFF\")\n",
    "plt.scatter(ts,ys_true[:,1],label=\"X (ground truth)\",linewidth=2,c=\"#ED0000FF\")\n",
    "plt.xlabel(\"Time (in hours)\")\n",
    "plt.ylabel(\"Concentrations\")\n",
    "plt.legend()"
   ]
  }
 ],
 "metadata": {
  "kernelspec": {
   "display_name": "jax_env",
   "language": "python",
   "name": "python3"
  },
  "language_info": {
   "codemirror_mode": {
    "name": "ipython",
    "version": 3
   },
   "file_extension": ".py",
   "mimetype": "text/x-python",
   "name": "python",
   "nbconvert_exporter": "python",
   "pygments_lexer": "ipython3",
   "version": "3.12.3"
  }
 },
 "nbformat": 4,
 "nbformat_minor": 2
}
