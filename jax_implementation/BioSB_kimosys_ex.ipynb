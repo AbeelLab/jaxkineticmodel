{
 "cells": [
  {
   "cell_type": "code",
   "execution_count": 71,
   "metadata": {},
   "outputs": [
    {
     "name": "stdout",
     "output_type": "stream",
     "text": [
      "/home/plent/Documenten/Gitlab/NeuralODEs/symplectic_adjoint\n"
     ]
    }
   ],
   "source": [
    "%cd \"/home/plent/Documenten/Gitlab/NeuralODEs/symplectic_adjoint\"\n",
    "from developing_sbml.sbml_load import *\n",
    "import diffrax\n",
    "from diffrax import diffeqsolve, ODETerm, Dopri5,SaveAt\n",
    "import numpy as np\n",
    "import jax.numpy as jnp\n",
    "import jax\n",
    "\n",
    "import equinox as eqx  # https://github.com/patrick-kidger/equinox\n",
    "import matplotlib.pyplot as plt\n",
    "import optax\n",
    "import pandas as pd\n",
    "import logging\n",
    "import sys\n",
    "sys.path.append('jax_implementation/developing_sbml/')\n",
    "\n",
    "from developing_sbml.jax_kinetic_model import NeuralODE, JaxKineticModel\n",
    "\n",
    "import jax\n",
    "# needed if system is stiff\n",
    "jax.config.update(\"jax_enable_x64\", True)"
   ]
  },
  {
   "cell_type": "code",
   "execution_count": 72,
   "metadata": {},
   "outputs": [
    {
     "name": "stdout",
     "output_type": "stream",
     "text": [
      "17:18:59,108 - developing_sbml.sbml_load - INFO - Number of internal inconsistencies: 0\n"
     ]
    },
    {
     "name": "stdout",
     "output_type": "stream",
     "text": [
      "Number of species: 18\n",
      "Number of reactions: 48\n",
      "Number of global parameters 7\n",
      "Number of constant boundary metabolites:  0\n",
      "Number of lambda function definitions:  0\n",
      "Number of assignment rules 7\n"
     ]
    }
   ],
   "source": [
    "### load model\n",
    "filepath=\"jax_implementation/developing_sbml/sbml_models/BIOMD0000000051_url.xml\"\n",
    "model=load_sbml_model(file_path=filepath)\n",
    "\n",
    "\n",
    "S=get_stoichiometric_matrix(model)\n",
    "\n",
    "\n",
    "y0=get_initial_conditions(model)\n",
    "\n",
    "y0=jnp.array(list(y0.values()))\n",
    "##recreate create_fluxes, but then for jax\n",
    "v,v_symbol_dictionaries,local_params=create_fluxes_v(model)\n",
    "met_point_dict=construct_flux_pointer_dictionary(v_symbol_dictionaries,list(S.columns),list(S.index))\n",
    "\n",
    "ts=jnp.arange(0,5,0.1)\n",
    "JaxKmodel = NeuralODE(v=v, S=S, \n",
    "                  met_point_dict=met_point_dict,\n",
    "                  v_symbol_dictionaries=v_symbol_dictionaries)\n",
    "\n",
    "JaxKmodel=jax.jit(JaxKmodel)\n"
   ]
  },
  {
   "cell_type": "code",
   "execution_count": 108,
   "metadata": {},
   "outputs": [
    {
     "name": "stdout",
     "output_type": "stream",
     "text": [
      "/home/plent/Documenten/Gitlab/NeuralODEs/symplectic_adjoint\n"
     ]
    }
   ],
   "source": [
    "## load data\n",
    "print(os.getcwd())\n",
    "data=pd.read_excel(\"jax_implementation/KIMODATAID30_v1.xlsx\",sheet_name=1,header=6)\n",
    "\n",
    "data=data.iloc[2:,:]\n",
    "\n",
    "float(data['Glucose [mM]'].iloc[0])\n",
    "\n",
    "y0_data=data.iloc[0,:]\n",
    "y0_data=jnp.array([float(i) for i in y0])\n",
    "\n",
    "ts_data=jnp.array([float(i) for i in data['Time [s]']])\n",
    "\n",
    "data_pep=jnp.array([float(i) for i in data['PEP [mM]']])\n",
    "data_glcex=jnp.array([float(i) for i in data['Glucose [mM]']])"
   ]
  },
  {
   "cell_type": "code",
   "execution_count": 111,
   "metadata": {},
   "outputs": [
    {
     "data": {
      "image/png": "[encoded data removed]",
      "text/plain": [
       "<Figure size 640x480 with 1 Axes>"
      ]
     },
     "metadata": {},
     "output_type": "display_data"
    }
   ],
   "source": [
    "ts=jnp.arange(0,30,0.1)\n",
    "# #parameters are not yet defined\n",
    "params=get_global_parameters(model)\n",
    "params={**local_params,**params}\n",
    "\n",
    "\n",
    "# # # print(v_local_param_dict)\n",
    "ys=JaxKmodel(ts=ts,\n",
    "      y0=y0,\n",
    "      params=params)\n",
    "\n",
    "# ys_data=JaxKmodel(ts=ts,\n",
    "#       y0=y0_data,\n",
    "#       params=params)\n",
    "\n",
    "for i in range(2):\n",
    "      plt.plot(ts,ys[:,i],label=S.index[i])\n",
    "      # plt.plot(ts,ys_data[:,i],label=S.index[i])\n",
    "plt.scatter(ts_data,data_pep,s=20,label=\"pep\")\n",
    "plt.scatter(ts_data,data_glcex,s=20,label=\"glc\")\n",
    "      \n",
    "\n",
    "# plt.plot(ts,ys[:,4],label=species_names[4])\n",
    "plt.legend()\n",
    "# \n",
    "plt.show()"
   ]
  },
  {
   "cell_type": "code",
   "execution_count": 112,
   "metadata": {},
   "outputs": [
    {
     "data": {
      "text/plain": [
       "{'lp.vPTS.rmaxPTS': 7829.78,\n",
       " 'lp.vPTS.KPTSa1': 3082.3,\n",
       " 'lp.vPTS.KPTSa2': 0.01,\n",
       " 'lp.vPTS.KPTSa3': 245.3,\n",
       " 'lp.vPTS.nPTSg6p': 3.66,\n",
       " 'lp.vPTS.KPTSg6p': 2.15,\n",
       " 'lp.vPGI.rmaxPGI': 650.9878687,\n",
       " 'lp.vPGI.KPGIeq': 0.1725,\n",
       " 'lp.vPGI.KPGIg6p': 2.9,\n",
       " 'lp.vPGI.KPGIf6p': 0.266,\n",
       " 'lp.vPGI.KPGIf6ppginh': 0.2,\n",
       " 'lp.vPGI.KPGIg6ppginh': 0.2,\n",
       " 'lp.vPGM.rmaxPGM': 0.8398242773,\n",
       " 'lp.vPGM.KPGMeq': 0.196,\n",
       " 'lp.vPGM.KPGMg6p': 1.038,\n",
       " 'lp.vPGM.KPGMg1p': 0.0136,\n",
       " 'lp.vG6PDH.rmaxG6PDH': 1.380196955,\n",
       " 'lp.vG6PDH.KG6PDHg6p': 14.4,\n",
       " 'lp.vG6PDH.KG6PDHnadphg6pinh': 6.43,\n",
       " 'lp.vG6PDH.KG6PDHnadp': 0.0246,\n",
       " 'lp.vG6PDH.KG6PDHnadphnadpinh': 0.01,\n",
       " 'lp.vPFK.rmaxPFK': 1840.584747,\n",
       " 'lp.vPFK.KPFKatps': 0.123,\n",
       " 'lp.vPFK.KPFKadpc': 4.14,\n",
       " 'lp.vPFK.KPFKf6ps': 0.325,\n",
       " 'lp.vPFK.KPFKpep': 3.26,\n",
       " 'lp.vPFK.KPFKadpb': 3.89,\n",
       " 'lp.vPFK.KPFKampb': 3.2,\n",
       " 'lp.vPFK.KPFKadpa': 128.0,\n",
       " 'lp.vPFK.KPFKampa': 19.1,\n",
       " 'lp.vPFK.LPFK': 5629067.0,\n",
       " 'lp.vPFK.nPFK': 11.1,\n",
       " 'lp.vTA.rmaxTA': 10.87164108,\n",
       " 'lp.vTA.KTAeq': 1.05,\n",
       " 'lp.vTKA.rmaxTKa': 9.473384783,\n",
       " 'lp.vTKA.KTKaeq': 1.2,\n",
       " 'lp.vTKB.rmaxTKb': 86.55855855,\n",
       " 'lp.vTKB.KTKbeq': 10.0,\n",
       " 'lp.vMURSyNTH.rmaxMurSynth': 0.00043711,\n",
       " 'lp.vALDO.rmaxALDO': 17.41464425,\n",
       " 'lp.vALDO.kALDOeq': 0.144,\n",
       " 'lp.vALDO.kALDOfdp': 1.75,\n",
       " 'lp.vALDO.kALDOgap': 0.088,\n",
       " 'lp.vALDO.VALDOblf': 2.0,\n",
       " 'lp.vALDO.kALDOdhap': 0.088,\n",
       " 'lp.vALDO.kALDOgapinh': 0.6,\n",
       " 'lp.vGAPDH.rmaxGAPDH': 921.5942861,\n",
       " 'lp.vGAPDH.KGAPDHeq': 0.63,\n",
       " 'lp.vGAPDH.KGAPDHgap': 0.683,\n",
       " 'lp.vGAPDH.KGAPDHpgp': 1.04e-05,\n",
       " 'lp.vGAPDH.KGAPDHnad': 0.252,\n",
       " 'lp.vGAPDH.KGAPDHnadh': 1.09,\n",
       " 'lp.vTIS.rmaxTIS': 68.67474392,\n",
       " 'lp.vTIS.kTISeq': 1.39,\n",
       " 'lp.vTIS.kTISdhap': 2.8,\n",
       " 'lp.vTIS.kTISgap': 0.3,\n",
       " 'lp.vTRPSYNTH.rmaxTrpSynth': 0.001037,\n",
       " 'lp.vG3PDH.rmaxG3PDH': 0.01162042696,\n",
       " 'lp.vG3PDH.KG3PDHdhap': 1.0,\n",
       " 'lp.vPGK.rmaxPGK': 3021.773771,\n",
       " 'lp.vPGK.KPGKeq': 1934.4,\n",
       " 'lp.vPGK.KPGKadp': 0.185,\n",
       " 'lp.vPGK.KPGKatp': 0.653,\n",
       " 'lp.vPGK.KPGKpgp': 0.0468,\n",
       " 'lp.vPGK.KPGKpg3': 0.473,\n",
       " 'lp.vsersynth.rmaxSerSynth': 0.025712107,\n",
       " 'lp.vsersynth.KSerSynthpg3': 1.0,\n",
       " 'lp.vrpGluMu.rmaxPGluMu': 89.04965407,\n",
       " 'lp.vrpGluMu.KPGluMueq': 0.188,\n",
       " 'lp.vrpGluMu.KPGluMupg3': 0.2,\n",
       " 'lp.vrpGluMu.KPGluMupg2': 0.369,\n",
       " 'lp.vENO.rmaxENO': 330.4476151,\n",
       " 'lp.vENO.KENOeq': 6.73,\n",
       " 'lp.vENO.KENOpg2': 0.1,\n",
       " 'lp.vENO.KENOpep': 0.135,\n",
       " 'lp.vPK.rmaxPK': 0.06113150238,\n",
       " 'lp.vPK.KPKpep': 0.31,\n",
       " 'lp.vPK.nPK': 4.0,\n",
       " 'lp.vPK.LPK': 1000.0,\n",
       " 'lp.vPK.KPKatp': 22.5,\n",
       " 'lp.vPK.KPKfdp': 0.19,\n",
       " 'lp.vPK.KPKamp': 0.2,\n",
       " 'lp.vPK.KPKadp': 0.26,\n",
       " 'lp.vpepCxylase.rmaxpepCxylase': 0.1070205858,\n",
       " 'lp.vpepCxylase.KpepCxylasefdp': 0.7,\n",
       " 'lp.vpepCxylase.npepCxylasefdp': 4.21,\n",
       " 'lp.vpepCxylase.KpepCxylasepep': 4.07,\n",
       " 'lp.vSynth1.rmaxSynth1': 0.01953897003,\n",
       " 'lp.vSynth1.KSynth1pep': 1.0,\n",
       " 'lp.vSynth2.rmaxSynth2': 0.07361855055,\n",
       " 'lp.vSynth2.KSynth2pyr': 1.0,\n",
       " 'lp.vDAHPS.rmaxDAHPS': 0.1079531227,\n",
       " 'lp.vDAHPS.nDAHPSe4p': 2.6,\n",
       " 'lp.vDAHPS.nDAHPSpep': 2.2,\n",
       " 'lp.vDAHPS.KDAHPSe4p': 0.035,\n",
       " 'lp.vDAHPS.KDAHPSpep': 0.0053,\n",
       " 'lp.vPDH.rmaxPDH': 6.059531017,\n",
       " 'lp.vPDH.nPDH': 3.68,\n",
       " 'lp.vPDH.KPDHpyr': 1159.0,\n",
       " 'lp.vMethSynth.rmaxMetSynth': 0.0022627,\n",
       " 'lp.vPGDH.rmaxPGDH': 16.23235977,\n",
       " 'lp.vPGDH.KPGDHpg': 37.5,\n",
       " 'lp.vPGDH.KPGDHnadp': 0.0506,\n",
       " 'lp.vPGDH.KPGDHnadphinh': 0.0138,\n",
       " 'lp.vPGDH.KPGDHatpinh': 208.0,\n",
       " 'lp.vR5PI.rmaxR5PI': 4.83841193,\n",
       " 'lp.vR5PI.KR5PIeq': 4.0,\n",
       " 'lp.vRu5P.rmaxRu5P': 6.739029475,\n",
       " 'lp.vRu5P.KRu5Peq': 1.4,\n",
       " 'lp.vPPK.rmaxRPPK': 0.01290045226,\n",
       " 'lp.vPPK.KRPPKrib5p': 0.1,\n",
       " 'lp.vG1PAT.rmaxG1PAT': 0.007525458026,\n",
       " 'lp.vG1PAT.KG1PATfdp': 0.119,\n",
       " 'lp.vG1PAT.nG1PATfdp': 1.2,\n",
       " 'lp.vG1PAT.KG1PATatp': 4.42,\n",
       " 'lp.vG1PAT.KG1PATg1p': 3.2,\n",
       " 'lp.vG6P.mu': 2.78e-05,\n",
       " 'lp.vf6P.mu': 2.78e-05,\n",
       " 'lp.vfdP.mu': 2.78e-05,\n",
       " 'lp.vGAP.mu': 2.78e-05,\n",
       " 'lp.vDHAP.mu': 2.78e-05,\n",
       " 'lp.vPGP.mu': 2.78e-05,\n",
       " 'lp.vPG3.mu': 2.78e-05,\n",
       " 'lp.vpg2.mu': 2.78e-05,\n",
       " 'lp.vPEP.mu': 2.78e-05,\n",
       " 'lp.vRibu5p.mu': 2.78e-05,\n",
       " 'lp.vRIB5P.mu': 2.78e-05,\n",
       " 'lp.vXYL5P.mu': 2.78e-05,\n",
       " 'lp.vSED7P.mu': 2.78e-05,\n",
       " 'lp.vpyr.mu': 2.78e-05,\n",
       " 'lp.vPG.mu': 2.78e-05,\n",
       " 'lp.vE4P.mu': 2.78e-05,\n",
       " 'lp.vGLP.mu': 2.78e-05,\n",
       " 'lp.vEXTER.Dil': 2.78e-05,\n",
       " 'lp.vEXTER.cfeed': 110.96,\n",
       " 'catp': 4.27,\n",
       " 'cadp': 0.595,\n",
       " 'camp': 0.955,\n",
       " 'cnadp': 0.195,\n",
       " 'cnadph': 0.062,\n",
       " 'cnad': 1.47,\n",
       " 'cnadh': 0.1}"
      ]
     },
     "execution_count": 112,
     "metadata": {},
     "output_type": "execute_result"
    }
   ],
   "source": [
    "params"
   ]
  }
 ],
 "metadata": {
  "kernelspec": {
   "display_name": "jax_env",
   "language": "python",
   "name": "python3"
  },
  "language_info": {
   "codemirror_mode": {
    "name": "ipython",
    "version": 3
   },
   "file_extension": ".py",
   "mimetype": "text/x-python",
   "name": "python",
   "nbconvert_exporter": "python",
   "pygments_lexer": "ipython3",
   "version": "3.12.3"
  }
 },
 "nbformat": 4,
 "nbformat_minor": 2
}
