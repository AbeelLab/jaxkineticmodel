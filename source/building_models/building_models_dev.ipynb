{
 "cells": [
  {
   "cell_type": "markdown",
   "metadata": {},
   "source": [
    "### We want to have a structure, similar to cobra, that allows use to build models in a similar fashion\n",
    "1. I think it should be reaction-centric."
   ]
  },
  {
   "cell_type": "code",
   "execution_count": 61,
   "metadata": {},
   "outputs": [
    {
     "name": "stdout",
     "output_type": "stream",
     "text": [
      "/home/plent/Documenten/Gitlab/NeuralODEs/jax_neural_odes\n"
     ]
    }
   ],
   "source": [
    "%cd /home/plent/Documenten/Gitlab/NeuralODEs/jax_neural_odes\n",
    "from source.kinetic_mechanisms import JaxKineticMechanisms as jm\n",
    "import jax.numpy as jnp\n",
    "import jax\n",
    "import numpy"
   ]
  },
  {
   "cell_type": "code",
   "execution_count": 64,
   "metadata": {},
   "outputs": [
    {
     "ename": "TypeError",
     "evalue": "Reaction.__init__() got an unexpected keyword argument 'name'",
     "output_type": "error",
     "traceback": [
      "\u001b[0;31m---------------------------------------------------------------------------\u001b[0m",
      "\u001b[0;31mTypeError\u001b[0m                                 Traceback (most recent call last)",
      "Cell \u001b[0;32mIn[64], line 17\u001b[0m\n\u001b[1;32m     10\u001b[0m         \u001b[38;5;28mself\u001b[39m\u001b[38;5;241m.\u001b[39mcompartment\u001b[38;5;241m=\u001b[39mcompartment\n\u001b[1;32m     12\u001b[0m     \u001b[38;5;66;03m# def retrieve_parameters()\u001b[39;00m\n\u001b[0;32m---> 17\u001b[0m ReactionA\u001b[38;5;241m=\u001b[39m\u001b[43mReaction\u001b[49m\u001b[43m(\u001b[49m\n\u001b[1;32m     18\u001b[0m \u001b[43m    \u001b[49m\u001b[43mname\u001b[49m\u001b[38;5;241;43m=\u001b[39;49m\u001b[38;5;124;43m\"\u001b[39;49m\u001b[38;5;124;43mReactionA\u001b[39;49m\u001b[38;5;124;43m\"\u001b[39;49m\u001b[43m,\u001b[49m\n\u001b[1;32m     19\u001b[0m \u001b[43m    \u001b[49m\u001b[43mspecies\u001b[49m\u001b[38;5;241;43m=\u001b[39;49m\u001b[43m[\u001b[49m\u001b[38;5;124;43m'\u001b[39;49m\u001b[38;5;124;43mA\u001b[39;49m\u001b[38;5;124;43m'\u001b[39;49m\u001b[43m,\u001b[49m\u001b[38;5;124;43m'\u001b[39;49m\u001b[38;5;124;43mB\u001b[39;49m\u001b[38;5;124;43m'\u001b[39;49m\u001b[43m]\u001b[49m\u001b[43m,\u001b[49m\n\u001b[1;32m     20\u001b[0m \u001b[43m    \u001b[49m\u001b[43mstoichiometry\u001b[49m\u001b[38;5;241;43m=\u001b[39;49m\u001b[43m[\u001b[49m\u001b[38;5;241;43m-\u001b[39;49m\u001b[38;5;241;43m1\u001b[39;49m\u001b[43m,\u001b[49m\u001b[38;5;241;43m1\u001b[39;49m\u001b[43m]\u001b[49m\u001b[43m,\u001b[49m\n\u001b[1;32m     21\u001b[0m \u001b[43m    \u001b[49m\u001b[43mmechanism\u001b[49m\u001b[38;5;241;43m=\u001b[39;49m\u001b[43mjm\u001b[49m\u001b[38;5;241;43m.\u001b[39;49m\u001b[43mJax_MM\u001b[49m\u001b[43m(\u001b[49m\u001b[43msubstrate\u001b[49m\u001b[38;5;241;43m=\u001b[39;49m\u001b[38;5;124;43m\"\u001b[39;49m\u001b[38;5;124;43mA\u001b[39;49m\u001b[38;5;124;43m\"\u001b[39;49m\u001b[43m,\u001b[49m\u001b[43mvmax\u001b[49m\u001b[38;5;241;43m=\u001b[39;49m\u001b[38;5;124;43m\"\u001b[39;49m\u001b[38;5;124;43mA_Vmax\u001b[39;49m\u001b[38;5;124;43m\"\u001b[39;49m\u001b[43m,\u001b[49m\u001b[43mkm\u001b[49m\u001b[38;5;241;43m=\u001b[39;49m\u001b[38;5;124;43m\"\u001b[39;49m\u001b[38;5;124;43mA_Km\u001b[39;49m\u001b[38;5;124;43m\"\u001b[39;49m\u001b[43m)\u001b[49m\u001b[43m,\u001b[49m\n\u001b[1;32m     22\u001b[0m \u001b[43m    \u001b[49m\u001b[43mcompartment\u001b[49m\u001b[38;5;241;43m=\u001b[39;49m\u001b[38;5;124;43m\"\u001b[39;49m\u001b[38;5;124;43mc\u001b[39;49m\u001b[38;5;124;43m\"\u001b[39;49m\n\u001b[1;32m     23\u001b[0m \u001b[43m    \u001b[49m\u001b[43m)\u001b[49m\n\u001b[1;32m     25\u001b[0m ReactionB\u001b[38;5;241m=\u001b[39mReaction(\n\u001b[1;32m     26\u001b[0m     name\u001b[38;5;241m=\u001b[39m\u001b[38;5;124m\"\u001b[39m\u001b[38;5;124mReactionB\u001b[39m\u001b[38;5;124m\"\u001b[39m,\n\u001b[1;32m     27\u001b[0m     species\u001b[38;5;241m=\u001b[39m[\u001b[38;5;124m'\u001b[39m\u001b[38;5;124mB\u001b[39m\u001b[38;5;124m'\u001b[39m,\u001b[38;5;124m'\u001b[39m\u001b[38;5;124mC\u001b[39m\u001b[38;5;124m'\u001b[39m],\n\u001b[0;32m   (...)\u001b[0m\n\u001b[1;32m     30\u001b[0m     compartment\u001b[38;5;241m=\u001b[39m\u001b[38;5;124m\"\u001b[39m\u001b[38;5;124mc\u001b[39m\u001b[38;5;124m\"\u001b[39m\n\u001b[1;32m     31\u001b[0m     )\n",
      "\u001b[0;31mTypeError\u001b[0m: Reaction.__init__() got an unexpected keyword argument 'name'"
     ]
    }
   ],
   "source": [
    "\n",
    "\n",
    "\n",
    "\n",
    "\n",
    "class Reaction:\n",
    "    \"\"\"Base class that can be used for building kinetic models. The following things must be specified: \n",
    "    species involved,\n",
    "    name of reaction\n",
    "    stoichiometry of the specific reaction,\n",
    "    mechanism + named parameters, and compartment \"\"\"\n",
    "    def __init__(self,name:str, species:list,stoichiometry:list,mechanism,compartment:str):\n",
    "        self.species=species\n",
    "        self.stoichiometry=dict(zip(species,stoichiometry))\n",
    "        self.mechanism=mechanism\n",
    "        self.compartment=compartment\n",
    "\n",
    "    # def retrieve_parameters()\n",
    "    \n",
    "\n",
    "\n",
    "\n",
    "ReactionA=Reaction(\n",
    "    name=\"ReactionA\",\n",
    "    species=['A','B'],\n",
    "    stoichiometry=[-1,1],\n",
    "    mechanism=jm.Jax_MM(substrate=\"A\",vmax=\"A_Vmax\",km=\"A_Km\"),\n",
    "    compartment=\"c\"\n",
    "    )\n",
    "\n",
    "ReactionB=Reaction(\n",
    "    name=\"ReactionB\",\n",
    "    species=['B','C'],\n",
    "    stoichiometry=[-1,1],\n",
    "    mechanism=jm.Jax_MM(substrate=\"B\",vmax=\"B_Vmax\",km=\"B_Km\"),\n",
    "    compartment=\"c\"\n",
    "    )\n",
    "\n"
   ]
  },
  {
   "cell_type": "code",
   "execution_count": 62,
   "metadata": {},
   "outputs": [
    {
     "data": {
      "text/plain": [
       "{'vmax': 'B_Vmax', 'km': 'B_Km', 'substrate': 'B'}"
      ]
     },
     "execution_count": 62,
     "metadata": {},
     "output_type": "execute_result"
    }
   ],
   "source": [
    "vars(ReactionB.mechanism)\n"
   ]
  },
  {
   "cell_type": "code",
   "execution_count": null,
   "metadata": {},
   "outputs": [],
   "source": [
    "class JaxKineticModel:\n",
    "    def __init__(self, v,\n",
    "                 S,\n",
    "                 flux_point_dict,\n",
    "                 species_names,\n",
    "                 reaction_names,\n",
    "                 compartment_values,):  # params,\n",
    "        \"\"\"Initialize given the following arguments:\n",
    "        v: the flux functions given as lambidified jax functions,\n",
    "        S: a stoichiometric matrix. For now only support dense matrices, but later perhaps add for sparse\n",
    "        params: kinetic parameters\n",
    "        flux_point_dict: a dictionary for each vi that tells what the corresponding metabolites should be in y. Should be matched to S.\n",
    "        ##A pointer dictionary?\n",
    "        \"\"\"\n",
    "        self.func = v\n",
    "        self.stoichiometry = S\n",
    "        # self.params=params\n",
    "        self.flux_point_dict = flux_point_dict  # this is ugly but wouldnt know how to do it another wa\n",
    "        self.species_names = np.array(species_names)\n",
    "        self.reaction_names = np.array(reaction_names)\n",
    "        self.compartment_values=jnp.array(compartment_values)\n",
    "\n",
    "    def __call__(self, t, y, args):\n",
    "        \"\"\"I explicitly add params to call for gradient calculations. Find out whether this is actually necessary\"\"\"\n",
    "        params, local_params, time_dict = args\n",
    "\n",
    "        #evaluate the time dictionary values at time t (for event functions e.g.)\n",
    "        time_dict = time_dict(t)\n",
    "\n",
    " \n",
    "        \n",
    "        #function evaluates the flux vi given y, parameter, local parameters, time dictionary\n",
    "        def apply_func(i, y, flux_point_dict, local_params, time_dict):\n",
    "\n",
    "            if len(flux_point_dict) != 0:\n",
    "                y = y[flux_point_dict]\n",
    "                species = self.species_names[flux_point_dict]\n",
    "                y = dict(zip(species, y))\n",
    "            else:\n",
    "                y = {}\n",
    "\n",
    "            parameters = params[i]\n",
    "\n",
    "            eval_dict = {**y, **parameters, **local_params, **time_dict}\n",
    "            vi = self.func[i](**eval_dict)\n",
    "            return vi\n",
    "\n",
    "        # Vectorize the application of the functions\n",
    "\n",
    "\n",
    "        v = jnp.stack([apply_func(i, y, self.flux_point_dict[i],\n",
    "                                  local_params[i],\n",
    "                                  time_dict[i])\n",
    "                       for i in self.reaction_names])  # perhaps there is a way to vectorize this in a better way\n",
    "        dY = jnp.matmul(self.stoichiometry, v)  # dMdt=S*v(t)\n",
    "        dY=dY/self.compartment_values\n",
    "        return dY"
   ]
  }
 ],
 "metadata": {
  "kernelspec": {
   "display_name": "jax_env",
   "language": "python",
   "name": "python3"
  },
  "language_info": {
   "codemirror_mode": {
    "name": "ipython",
    "version": 3
   },
   "file_extension": ".py",
   "mimetype": "text/x-python",
   "name": "python",
   "nbconvert_exporter": "python",
   "pygments_lexer": "ipython3",
   "version": "3.12.3"
  }
 },
 "nbformat": 4,
 "nbformat_minor": 2
}
