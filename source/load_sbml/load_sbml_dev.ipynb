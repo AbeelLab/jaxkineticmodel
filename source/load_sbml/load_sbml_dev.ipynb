{
 "cells": [
  {
   "cell_type": "code",
   "execution_count": 2,
   "metadata": {},
   "outputs": [
    {
     "name": "stdout",
     "output_type": "stream",
     "text": [
      "Number of internal inconsistencies 0\n",
      "Number of species: 6\n",
      "Number of reactions: 6\n",
      "Number of constant boundary metabolites 0\n"
     ]
    }
   ],
   "source": [
    "from create_fluxes_sbml import *\n",
    "import sys\n",
    "from load_sbml_model import *\n",
    "sys.path.insert(1,\"../../functions/kinetic_mechanisms/\")\n",
    "import KineticMechanisms\n",
    "import torch\n",
    "from torch import nn\n",
    "import torchdiffeq\n",
    "import matplotlib.pyplot as plt\n",
    "import re\n",
    "\n",
    "\n",
    "model_name=\"../../models/SBML_models/not yet working/BIOMD0000000626_url.xml\"\n",
    "# data_name=\"../data/rawdata_simple_sbml.csv\"\n",
    "model=load_sbml_model(model_name)\n",
    "initial_concentration_dict=get_initial_conditions(model)\n",
    "parameters,boundaries,compartments=get_model_parameters(model)\n"
   ]
  },
  {
   "cell_type": "code",
   "execution_count": 3,
   "metadata": {},
   "outputs": [
    {
     "name": "stdout",
     "output_type": "stream",
     "text": [
      "lambda(Ime1, Rim11, dpime_1, pIme1, pime_1, pime_1 * Ime1 * Rim11 - dpime_1 * pIme1)\n",
      "lambda(Rim11, pUme6, pume_6, uume_6, (1 - pUme6) * pume_6 * Rim11 - uume_6 * pUme6)\n",
      "lambda(Ime1, Rim11, dpime_1, pIme1, pime_1, pime_1 * Ime1 * Rim11 - dpime_1 * pIme1)\n"
     ]
    }
   ],
   "source": [
    "import sympy as sp\n",
    "func=model.function_definitions[0]\n",
    "ratelaw=libsbml.formulaToString(func.getMath())\n",
    "print(ratelaw)\n",
    "\n",
    "func=model.function_definitions[1]\n",
    "ratelaw=libsbml.formulaToString(func.getMath())\n",
    "print(ratelaw)\n",
    "\n",
    "func=model.function_definitions[0]\n",
    "ratelaw=libsbml.formulaToString(func.getMath())\n",
    "print(ratelaw)\n",
    "\n",
    "# Ime1, Rim11, dpime_1, pIme1, pime_1 = sp.symbols('Ime1 Rim11 dpime_1 pIme1 pime_1')\n",
    "# Lambdify the expression for numerical evaluation\n",
    "# func = sp.lambdify((Ime1, Rim11, dpime_1, pIme1, pime_1), ratelaw)\n",
    "\n",
    "# ratelaw"
   ]
  },
  {
   "cell_type": "code",
   "execution_count": 24,
   "metadata": {},
   "outputs": [
    {
     "name": "stdout",
     "output_type": "stream",
     "text": [
      "urim_11 * (1 - Rim11) - prim_11 * Rim11\n"
     ]
    },
    {
     "data": {
      "text/plain": [
       "<function _lambdifygenerated(Rim11, prim_11, urim_11)>"
      ]
     },
     "execution_count": 24,
     "metadata": {},
     "output_type": "execute_result"
    }
   ],
   "source": [
    "a=func.getMath()\n",
    "eval_dict={}\n",
    "for i in range(a.getNumChildren()):\n",
    "    test=a.getChild(i)\n",
    "    if test.getName()!=None:\n",
    "        eval_dict[test.getName()]=4\n",
    "    \n",
    "\n",
    "\n",
    "\n",
    "rate_law=libsbml.formulaToString(test)\n",
    "print(rate_law)\n",
    "expr=sp.sympify(rate_law)\n",
    "func_x=sp.lambdify(eval_dict.keys(),expr)\n",
    "\n",
    "func_x\n",
    "\n",
    "# def get_symbolic_function():\n",
    "#     \"\"\"Some sbml models have seperate predefined function that need to be pre-evaluated.\n",
    "#     For each reaction this needs to be gathered\"\"\""
   ]
  },
  {
   "cell_type": "code",
   "execution_count": 56,
   "metadata": {},
   "outputs": [
    {
     "name": "stdout",
     "output_type": "stream",
     "text": [
      "V\n",
      "ODE_Rim11_1_1\n"
     ]
    },
    {
     "data": {
      "text/plain": [
       "-28"
      ]
     },
     "execution_count": 56,
     "metadata": {},
     "output_type": "execute_result"
    }
   ],
   "source": [
    "reaction=model.reactions[0]\n",
    "l=reaction.getKineticLaw()\n",
    "ast_l=l.getMath()\n",
    "# print(libsbml.formulaToL3String(ast_l))\n",
    "for i in range(ast_l.getNumChildren()):\n",
    "    test=ast_l.getChild(i)\n",
    "    print(test.getName())\n",
    "\n",
    "#we have to find the key ODE_Rim() from reaction\n",
    "# then we have to actually find the functional expression\n",
    "# If we have that we can sympify\n",
    "sbml_reaction=model.reactions[0]\n",
    "\n",
    "def get_symbolic_function_expr(model):\n",
    "    \"\"\"Some sbml models have seperate functions defined. This helper function\n",
    "    gathers them. \n",
    "    \n",
    "    INPUT:\n",
    "    1. model \"\"\"\n",
    "    functional_dict={}\n",
    "    for i in range(model.getNumFunctionDefinitions()):\n",
    "        func=model.function_definitions[i]\n",
    "        symbol_keys=[]\n",
    "        func_math=func.getMath()\n",
    "        for j in range(func_math.getNumChildren()):\n",
    "            Child=func_math.getChild(j)\n",
    "            if Child.getName()!=None:\n",
    "                symbol_keys.append(Child.getName())\n",
    "        #this is the last term and the expression\n",
    "        rate_law=libsbml.formulaToL3String(Child)\n",
    "        expr=sp.sympify(rate_law)\n",
    "        func_x=sp.lambdify(symbol_keys,expr)\n",
    "        functional_dict[model.function_definitions[i].getId()]=func_x\n",
    "    return functional_dict\n",
    "\n",
    "\n",
    "functional_dict=get_symbolic_function_expr(model)\n",
    "\n",
    "\n",
    "\n",
    "functional_dict['ODE_Rim11_1_1'](**eval_dict)\n",
    "\n",
    "\n",
    "# func_x(2,3,4,5,6)\n",
    "# rate_law=libsbml.formulaToL3String(func_math)\n",
    "# rate_law\n",
    "# sp.symbols(symbol_keys)\n",
    "# rate_law=libsbml.formulaToString(test)\n",
    "# expr=sp.sympify(rate_law)\n",
    "# func_x=sp.lambdify(eval_dict.keys(),expr)"
   ]
  },
  {
   "cell_type": "code",
   "execution_count": 64,
   "metadata": {},
   "outputs": [
    {
     "name": "stdout",
     "output_type": "stream",
     "text": [
      "{'2': 3, '4': '5', 'g': 4, '3': '12'}\n"
     ]
    }
   ],
   "source": [
    "a={\"2\":3,\"4\":\"5\"}\n",
    "b={\"g\":4,\"3\":\"12\"}\n",
    "a.update(b)\n"
   ]
  },
  {
   "cell_type": "code",
   "execution_count": 62,
   "metadata": {},
   "outputs": [
    {
     "data": {
      "text/plain": [
       "2"
      ]
     },
     "execution_count": 62,
     "metadata": {},
     "output_type": "execute_result"
    }
   ],
   "source": [
    "Ime1, Rim11, dpime_1, pIme1, pime_1 = sp.symbols('Ime1, Rim11, dpime_1, pIme1, pime_1')\n",
    "a=lambda x,y: 2\n",
    "a(2,2)"
   ]
  },
  {
   "cell_type": "code",
   "execution_count": 9,
   "metadata": {},
   "outputs": [
    {
     "data": {
      "image/png": "[encoded data removed]",
      "text/plain": [
       "<Figure size 640x480 with 1 Axes>"
      ]
     },
     "metadata": {},
     "output_type": "display_data"
    }
   ],
   "source": [
    "\n",
    "\n",
    "sbml_model=torch_SBML_kinetic_model(model,fluxes=fluxes)\n",
    "time_points=np.linspace(0,10,10)\n",
    "tensor_timepoints=torch.tensor(time_points,dtype=torch.float64,requires_grad=False)\n",
    "initial_values=torch.Tensor(list(initial_concentration_dict.values()))\n",
    "\n",
    "predicted_c =torchdiffeq.odeint_adjoint(func=sbml_model, y0=initial_values, t=tensor_timepoints,method=\"cvode\",rtol=1e-4,atol=1e-6)\n",
    "\n",
    "# print(initial_values)\n",
    "# plt.title(\"Parameter perturbation\")\n",
    "for i in range(len(initial_values)):\n",
    "    plt.plot(time_points,predicted_c.detach().numpy()[:,i],label=list(initial_concentration_dict.keys())[i])\n",
    "# plt.yscale(\"log\")\n",
    "plt.legend()\n",
    "plt.show()"
   ]
  },
  {
   "cell_type": "code",
   "execution_count": 17,
   "metadata": {},
   "outputs": [],
   "source": [
    "import pandas as pd\n",
    "dataset=pd.DataFrame(predicted_c.detach().numpy().T,index=initial_concentration_dict.keys(),columns=time_points)\n",
    "dataset.to_csv(\"../../data/rawdata_batch_bioprocess.csv\")"
   ]
  },
  {
   "cell_type": "code",
   "execution_count": null,
   "metadata": {},
   "outputs": [],
   "source": []
  },
  {
   "cell_type": "code",
   "execution_count": null,
   "metadata": {},
   "outputs": [],
   "source": []
  }
 ],
 "metadata": {
  "kernelspec": {
   "display_name": "neural_odes",
   "language": "python",
   "name": "python3"
  },
  "language_info": {
   "codemirror_mode": {
    "name": "ipython",
    "version": 3
   },
   "file_extension": ".py",
   "mimetype": "text/x-python",
   "name": "python",
   "nbconvert_exporter": "python",
   "pygments_lexer": "ipython3",
   "version": "3.8.15"
  }
 },
 "nbformat": 4,
 "nbformat_minor": 2
}
