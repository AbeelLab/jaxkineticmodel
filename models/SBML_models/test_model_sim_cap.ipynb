{
 "cells": [
  {
   "cell_type": "code",
   "execution_count": 2,
   "metadata": {},
   "outputs": [],
   "source": [
    "import tellurium as te\n",
    "x=te.loadSBMLModel(\"BIOMD0000000244_url.xml\")\n",
    "# x.simulate(0,10,100)\n",
    "# x.plot()\n",
    "x.getNumGlobalParameters()\n",
    "x.getReactionRates()\n"
   ]
  }
 ],
 "metadata": {
  "kernelspec": {
   "display_name": "skimpy-env",
   "language": "python",
   "name": "python3"
  },
  "language_info": {
   "codemirror_mode": {
    "name": "ipython",
    "version": 3
   },
   "file_extension": ".py",
   "mimetype": "text/x-python",
   "name": "python",
   "nbconvert_exporter": "python",
   "pygments_lexer": "ipython3",
   "version": "3.8.18"
  }
 },
 "nbformat": 4,
 "nbformat_minor": 2
}
