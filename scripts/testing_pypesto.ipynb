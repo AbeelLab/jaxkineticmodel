{
 "cells": [
  {
   "metadata": {},
   "cell_type": "raw",
   "source": "",
   "id": "b0cd9ad282baef2a"
  },
  {
   "metadata": {
    "ExecuteTime": {
     "end_time": "2025-02-28T08:32:40.426148Z",
     "start_time": "2025-02-28T08:32:40.397537Z"
    }
   },
   "cell_type": "code",
   "source": [
    "%cd /home/plent/Documenten/Gitlab/NeuralODEs/jax_neural_odes\n",
    "import amici\n",
    "import numpy as np\n",
    "\n",
    "sbml_file_dir=\"models/manual_implementations/sbml_export\"\n",
    "output_dir=\"results/PyPESTO_comparison/\"\n",
    "model_name=\"glycolysis_feastfamine_pulse1\"\n",
    "\n",
    "model_module = amici.import_model_module(model_name, output_dir)\n",
    "model = model_module.getModel()\n",
    "\n",
    "type(model)\n"
   ],
   "id": "2350b5b7c08c57b8",
   "outputs": [
    {
     "name": "stdout",
     "output_type": "stream",
     "text": [
      "/home/plent/Documenten/Gitlab/NeuralODEs/jax_neural_odes\n"
     ]
    },
    {
     "data": {
      "text/plain": [
       "amici.amici.ModelPtr"
      ]
     },
     "execution_count": 5,
     "metadata": {},
     "output_type": "execute_result"
    }
   ],
   "execution_count": 5
  },
  {
   "metadata": {
    "ExecuteTime": {
     "end_time": "2025-02-28T08:32:41.352092Z",
     "start_time": "2025-02-28T08:32:41.158872Z"
    }
   },
   "cell_type": "code",
   "source": [
    "## we will first time benchmark simulation times. We note that comparing between different solvers is tricky.\n",
    "from jaxkineticmodel.load_sbml.sbml_model import SBMLModel\n",
    "\n",
    "jaxkineticmodel_sbml=SBMLModel(f\"{sbml_file_dir}/{model_name}.xml\")\n",
    "\n",
    "parameter_values=[]\n",
    "#get the parameters from the list of amici parameters and map values\n",
    "for i in model.getParameterIds():\n",
    "    parameter_values.append(jaxkineticmodel_sbml.parameters[i])\n",
    "\n",
    "print(parameter_values)\n"
   ],
   "id": "fa95b0ddbc2e12c1",
   "outputs": [
    {
     "name": "stdout",
     "output_type": "stream",
     "text": [
      "09:32:41,289 - jaxkineticmodel.load_sbml.sbml_model - INFO - No internal inconsistencies found\n",
      "09:32:41,291 - jaxkineticmodel.load_sbml.sbml_model - INFO - Model loaded.\n",
      "09:32:41,292 - jaxkineticmodel.load_sbml.sbml_model - INFO -  number of species: 30\n",
      "09:32:41,293 - jaxkineticmodel.load_sbml.sbml_model - INFO -  number of reactions: 42\n",
      "09:32:41,294 - jaxkineticmodel.load_sbml.sbml_model - INFO -  number of global parameters: 143\n",
      "09:32:41,295 - jaxkineticmodel.load_sbml.sbml_model - INFO -  number of constant boundary metabolites: 1\n",
      "09:32:41,296 - jaxkineticmodel.load_sbml.sbml_model - INFO -  number of lambda function definitions: 0\n",
      "09:32:41,297 - jaxkineticmodel.load_sbml.sbml_model - INFO -  number of assignment rules: 1\n",
      "09:32:41,298 - jaxkineticmodel.load_sbml.sbml_model - INFO -  number of event rules: 0\n",
      "[0.95, 3800.0, 0.15, 0.08, 0.23, 30.0, 0.2, 0.734, 1.1918, 1.0078, 0.2, 2.88, 13.4667, 0.2586, 1.0257, 0.307, 0.0778536, 0.01, 0.024574614, 0.0001, 100.0, 0.166666666666667, 0.023, 0.05, 1.4, 3.8, 0.886, 1.0, 0.105885, 0.5, 0.7023, 0.71, 0.1, 0.71, 5.12, 3.0, 100.0, 0.0845, 0.0174, 0.397, 0.66, 0.65, 0.095, 0.001, 0.0012, 0.111, 3.15, 0.069, 0.451, 2.0, 2.4, 78.396, 0.0391, 6.45, 5.25, 0.012626, 1.169, 10000.0, 0.54, 0.023, 1.2, 0.93, 4.8, 0.73, 2.0, 30.98, 0.0056, 0.459, 2.92, 1.5, 0.908, 0.022, 44.5, 3200.0, 0.003, 0.2, 0.53, 0.3, 0.007881, 0.001, 0.5, 5.99, 1.0, 0.1, 0.1, 14.2667, 0.19, 1.2, 0.08, 5.95, 4.011, 0.043, 0.5, 0.007607, 0.001, 9.3167, 4.0, 0.281, 0.243, 9.3, 0.2, 60000.0, 0.1613283, 0.001, 13.5, 6.9e-05, 0.92, 17.0, 1.11, 0.11, 90.0, 1.1, 0.031, 1.0, 0.0348361668, 0.0001, 1e-05, 0.1, 1.0, 0.5, 1.0, 0.12, 0.45, 100.0, 0.17, 10.0, 4.0, 10.9184, 1618.4, 5000.0, 0.05, 0.1, 0.03, 0.02, 6.4538, 8.5, 1.9, 14.7, 1.0, 0.1, 0.00031]\n"
     ]
    }
   ],
   "execution_count": 6
  },
  {
   "metadata": {
    "ExecuteTime": {
     "end_time": "2025-02-28T08:32:42.188333Z",
     "start_time": "2025-02-28T08:32:42.151775Z"
    }
   },
   "cell_type": "code",
   "source": [
    "# print(\"Model parameters:\", list(model.getParameterIds()))\n",
    "# print(\"Model outputs:   \", list(model.getObservableIds()))\n",
    "# print(\"Model states:    \", list(model.getStateIds()))\n",
    "\n",
    "timepoints = np.array(\n",
    "    [0.0,2.5,5.0,10.0,15.0,20.0,30.0,40.0,50.0,60.0,80.0,100.0,120.0,160.0,200.0,240.0,])\n",
    "\n",
    "print(\"Initial conditions:\", model.getInitialStates())\n",
    "print(\"Parameters:\", model.getParameters())\n",
    "print(\"Parameters:\", model.getFixedParameters())\n",
    "model.setTimepoints(timepoints)\n",
    "# # 'ECbiomass', 'D'\n",
    "model.setFixedParameters(np.array([3.7683659, 0.1]))\n",
    "model.setParameters(parameter_values)\n",
    "solver = model.getSolver()\n",
    "\n",
    "rdata = amici.runAmiciSimulation(model, solver)\n",
    "\n",
    "help(model.setT0)"
   ],
   "id": "5a7746dcf5708545",
   "outputs": [
    {
     "name": "stderr",
     "output_type": "stream",
     "text": [
      "2025-02-28 09:32:42.173 - amici.swig_wrappers - WARNING - [AMICI:NaN] AMICI encountered a NaN value for xdot[1] (ICglucose) at t=0.000000 \n"
     ]
    },
    {
     "name": "stdout",
     "output_type": "stream",
     "text": [
      "Initial conditions: (3.730584, 0.196003, 1.376832, 0.716385, 63.31204, 0.202293, 0.064568, 0.093705, 10.0, 0.057001, 0.006213, 0.048571, 0.0106, 0.020586, 1.5794, 0.0001, 2.311074, 0.1, 0.0, 0.297534, 1.171415, 0.152195, 10.0, 0.04, 0.0, 0.431427, 0.1, 0.1, 1.5)\n",
      "Parameters: (0.95, 3800.0, 0.15, 0.08, 0.23, 30.0, 0.2, 0.734, 1.1918, 1.0078, 0.2, 2.88, 13.4667, 0.2586, 1.0257, 0.307, 0.0778536, 0.01, 0.024574614, 0.0001, 100.0, 0.166666666666667, 0.023, 0.05, 1.4, 3.8, 0.886, 1.0, 0.105885, 0.5, 0.7023, 0.71, 0.1, 0.71, 5.12, 3.0, 100.0, 0.0845, 0.0174, 0.397, 0.66, 0.65, 0.095, 0.001, 0.0012, 0.111, 3.15, 0.069, 0.451, 2.0, 2.4, 78.396, 0.0391, 6.45, 5.25, 0.012626, 1.169, 10000.0, 0.54, 0.023, 1.2, 0.93, 4.8, 0.73, 2.0, 30.98, 0.0056, 0.459, 2.92, 1.5, 0.908, 0.022, 44.5, 3200.0, 0.003, 0.2, 0.53, 0.3, 0.007881, 0.001, 0.5, 5.99, 1.0, 0.1, 0.1, 14.2667, 0.19, 1.2, 0.08, 5.95, 4.011, 0.043, 0.5, 0.007607, 0.001, 9.3167, 4.0, 0.281, 0.243, 9.3, 0.2, 60000.0, 0.1613283, 0.001, 13.5, 6.9e-05, 0.92, 17.0, 1.11, 0.11, 90.0, 1.1, 0.031, 1.0, 0.0348361668, 0.0001, 1e-05, 0.1, 1.0, 0.5, 1.0, 0.12, 0.45, 100.0, 0.17, 10.0, 4.0, 10.9184, 1618.4, 5000.0, 0.05, 0.1, 0.03, 0.02, 6.4538, 8.5, 1.9, 14.7, 1.0, 0.1, 0.00031)\n",
      "Parameters: (3.7683659, 0.1)\n",
      "09:32:42,173 - amici.swig_wrappers - WARNING - [AMICI:NaN] AMICI encountered a NaN value for xdot[1] (ICglucose) at t=0.000000 \n"
     ]
    },
    {
     "name": "stderr",
     "output_type": "stream",
     "text": [
      "2025-02-28 09:32:42.176 - amici.swig_wrappers - WARNING - [AMICI:NaN] AMICI encountered a NaN value for w[0] (ECglucose) at t=0.000000 \n"
     ]
    },
    {
     "name": "stdout",
     "output_type": "stream",
     "text": [
      "09:32:42,176 - amici.swig_wrappers - WARNING - [AMICI:NaN] AMICI encountered a NaN value for w[0] (ECglucose) at t=0.000000 \n"
     ]
    },
    {
     "name": "stderr",
     "output_type": "stream",
     "text": [
      "2025-02-28 09:32:42.178 - amici.swig_wrappers - DEBUG - [cvodes:CVode:FIRST_RHSFUNC_ERR] The right-hand side routine failed at the first call.\n"
     ]
    },
    {
     "name": "stdout",
     "output_type": "stream",
     "text": [
      "09:32:42,178 - amici.swig_wrappers - DEBUG - [cvodes:CVode:FIRST_RHSFUNC_ERR] The right-hand side routine failed at the first call.\n"
     ]
    },
    {
     "name": "stderr",
     "output_type": "stream",
     "text": [
      "2025-02-28 09:32:42.180 - amici.swig_wrappers - ERROR - [FORWARD_FAILURE] AMICI forward simulation failed at t = 0: AMICI failed to integrate the forward problem\n"
     ]
    },
    {
     "name": "stdout",
     "output_type": "stream",
     "text": [
      "09:32:42,180 - amici.swig_wrappers - ERROR - [FORWARD_FAILURE] AMICI forward simulation failed at t = 0: AMICI failed to integrate the forward problem\n",
      "Help on method setT0 in module amici.amici:\n",
      "\n",
      "setT0(t0: \"'float'\") method of amici.amici.ModelPtr instance\n",
      "    Set simulation start time.\n",
      "\n",
      "    Output timepoints are absolute timepoints, independent of\n",
      "    :math:`t_{0}`.\n",
      "    For output timepoints :math:`t <  t_{0}`, the initial state will be\n",
      "    returned.\n",
      "\n",
      "    :param t0: Simulation start time\n",
      "\n"
     ]
    }
   ],
   "execution_count": 7
  },
  {
   "metadata": {
    "ExecuteTime": {
     "end_time": "2025-02-28T09:23:13.358143Z",
     "start_time": "2025-02-28T09:23:13.252977Z"
    }
   },
   "cell_type": "code",
   "source": [
    "import amici\n",
    "import time\n",
    "\n",
    "sbml_file_dir = \"models/manual_implementations/sbml_export\"\n",
    "output_dir = \"results/PyPESTO_comparison/\"\n",
    "model_name=\"glycolysis_feastfamine_pulse1\"\n",
    "\n",
    "sbml_file = f\"{sbml_file_dir}/{model_name}.xml\"\n",
    "# Create an SbmlImporter instance for our SBML model\n",
    "sbml_importer = amici.SbmlImporter(sbml_file)\n",
    "\n",
    "constant_parameters = ['ECbiomass', 'D']\n",
    "\n",
    "## Aha: we have an assignment rule and not a rate rule\n",
    "\n",
    "# Retrieve model output names and formulae from AssignmentRules and remove the respective rules\n",
    "observables = amici.assignmentRules2observables(\n",
    "    sbml_importer.sbml,  # the libsbml model object\n",
    "    filter_function=lambda variable: variable.getName() == \"ECglucose\")\n",
    "print(\"Observables:\", observables)\n",
    "\n",
    "\n",
    "# filter_function=lambda variable: variable.getId().startswith(\"observable_\")\n",
    "#                                  and not variable.getId().endswith(\"_sigma\"),\n",
    "\n"
   ],
   "id": "ca28e91c8d25fc36",
   "outputs": [
    {
     "name": "stdout",
     "output_type": "stream",
     "text": [
      "Observables: {}\n"
     ]
    }
   ],
   "execution_count": 20
  },
  {
   "metadata": {
    "ExecuteTime": {
     "end_time": "2025-02-27T15:04:40.565074Z",
     "start_time": "2025-02-27T15:04:40.562374Z"
    }
   },
   "cell_type": "code",
   "source": [
    "sbml_importer.sbml\n",
    "\n",
    "for rule in sbml_importer.sbml.getListOfRules():\n",
    "    print(rule.getTypeCode())"
   ],
   "id": "d5512b1222085d75",
   "outputs": [
    {
     "name": "stdout",
     "output_type": "stream",
     "text": [
      "22\n"
     ]
    }
   ],
   "execution_count": 51
  }
 ],
 "metadata": {
  "kernelspec": {
   "display_name": "Python 3",
   "language": "python",
   "name": "python3"
  },
  "language_info": {
   "codemirror_mode": {
    "name": "ipython",
    "version": 2
   },
   "file_extension": ".py",
   "mimetype": "text/x-python",
   "name": "python",
   "nbconvert_exporter": "python",
   "pygments_lexer": "ipython2",
   "version": "2.7.6"
  }
 },
 "nbformat": 4,
 "nbformat_minor": 5
}
