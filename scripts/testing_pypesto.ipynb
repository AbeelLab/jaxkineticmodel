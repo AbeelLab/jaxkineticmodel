{
 "cells": [
  {
   "metadata": {},
   "cell_type": "raw",
   "source": "",
   "id": "b0cd9ad282baef2a"
  },
  {
   "metadata": {
    "ExecuteTime": {
     "start_time": "2025-02-27T09:42:50.138289Z"
    }
   },
   "cell_type": "code",
   "source": [
    "%cd /home/plent/Documenten/Gitlab/NeuralODEs/jax_neural_odes\n",
    "import amici\n",
    "\n",
    "sbml_file_dir=\"models/manual_implementations/sbml_export\"\n",
    "output_dir=\"jax_neural_odes/results/PyPESTO_comparison/\"\n",
    "model_name=\"glycolysis_feastfamine_pulse1\"\n",
    "\n",
    "sbml_file = f\"{sbml_file_dir}/{model_name}.xml\"\n",
    "# Create an SbmlImporter instance for our SBML model\n",
    "sbml_importer = amici.SbmlImporter(sbml_file)\n",
    "\n",
    "constant_parameters=['ECbiomass','D']\n",
    "\n",
    "# Retrieve model output names and formulae from AssignmentRules and remove the respective rules\n",
    "observables = amici.assignmentRules2observables(\n",
    "    sbml_importer.sbml,  # the libsbml model object\n",
    "    filter_function=lambda variable: variable.getId().startswith(\"observable_\")\n",
    "    and not variable.getId().endswith(\"_sigma\"),\n",
    ")\n",
    "print(\"Observables:\")\n",
    "print(observables)\n",
    "\n",
    "\n",
    "sbml_importer.sbml2amici(\n",
    "    model_name,\n",
    "    output_dir,\n",
    "    verbose=False,\n",
    "    observables=observables,\n",
    "    constant_parameters=constant_parameters,\n",
    ") #compile step takes about\n",
    "\n"
   ],
   "id": "1c78e8bec746f561",
   "outputs": [
    {
     "name": "stdout",
     "output_type": "stream",
     "text": [
      "/home/plent/Documenten/Gitlab/NeuralODEs/jax_neural_odes\n",
      "Observables:\n",
      "{}\n"
     ]
    }
   ],
   "execution_count": null
  }
 ],
 "metadata": {
  "kernelspec": {
   "display_name": "Python 3",
   "language": "python",
   "name": "python3"
  },
  "language_info": {
   "codemirror_mode": {
    "name": "ipython",
    "version": 2
   },
   "file_extension": ".py",
   "mimetype": "text/x-python",
   "name": "python",
   "nbconvert_exporter": "python",
   "pygments_lexer": "ipython2",
   "version": "2.7.6"
  }
 },
 "nbformat": 4,
 "nbformat_minor": 5
}
