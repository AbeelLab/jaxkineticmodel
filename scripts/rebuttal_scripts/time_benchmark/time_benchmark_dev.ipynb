{
 "cells": [
  {
   "cell_type": "code",
   "id": "initial_id",
   "metadata": {
    "collapsed": true,
    "ExecuteTime": {
     "end_time": "2025-04-30T15:22:04.713956Z",
     "start_time": "2025-04-30T15:22:02.517494Z"
    }
   },
   "source": [
    "%cd /home/plent/Documenten/Gitlab/NeuralODEs/jax_neural_odes\n",
    "\n",
    "from jaxkineticmodel.load_sbml.sbml_model import SBMLModel\n",
    "import jax.numpy as jnp\n",
    "import pandas as pd\n",
    "import time\n",
    "import numpy as np\n",
    "import diffrax\n",
    "import matplotlib.pyplot as plt\n",
    "import jax\n",
    "import amici\n",
    "jax.config.update(\"jax_enable_x64\", True)"
   ],
   "outputs": [
    {
     "name": "stdout",
     "output_type": "stream",
     "text": [
      "/home/plent/Documenten/Gitlab/NeuralODEs/jax_neural_odes\n"
     ]
    }
   ],
   "execution_count": 1
  },
  {
   "metadata": {
    "ExecuteTime": {
     "end_time": "2025-04-30T15:22:49.968938Z",
     "start_time": "2025-04-30T15:22:05.196717Z"
    }
   },
   "cell_type": "code",
   "source": [
    "model_names = [\"Smallbone2013_SerineBiosynthesis\",\"Becker_Science2010\", \"Fujita_SciSignal2010\",\"Raia_CancerResearch\",\"Messiha2013\"]\n",
    "# load model\n",
    "n_reps = 10\n",
    "model_names_pypesto_dir=[\"smallbone\",\"becker\",\"fujita\",\"raia\",\"messiha\"]\n",
    "\n",
    "\n",
    "\n",
    "\n",
    "timing_dict={}\n",
    "for k, model_name in enumerate(model_names):\n",
    "    # run to compile once\n",
    "    filepath = \"models/sbml_models/working_models/\" + model_name + \".xml\"\n",
    "    model = SBMLModel(filepath)\n",
    "    ts=jnp.linspace(0,10,500)\n",
    "    kinetic_model=model.get_kinetic_model()\n",
    "    kinetic_model.rtol=1e-12\n",
    "    kinetic_model.atol=1e-12\n",
    "    kinetic_model.dt0 = 1e-8\n",
    "\n",
    "    S = model._get_stoichiometric_matrix()\n",
    "    ys = kinetic_model(ts=ts,\n",
    "                y0=model.y0,\n",
    "                params=model.parameters)\n",
    "\n",
    "    #run the kvaerno5 solver\n",
    "    timings = []\n",
    "    for i in range(n_reps):\n",
    "        start= time.perf_counter()\n",
    "        ys = kinetic_model(ts=ts,\n",
    "                    y0=model.y0,\n",
    "                    params=model.parameters)\n",
    "        ys=pd.DataFrame(ys,columns=S.index)\n",
    "        end = time.perf_counter()\n",
    "        timings.append(end-start)\n",
    "\n",
    "    print(\"mean\", np.mean(timings)) #0.006830265596174286\n",
    "    print(\"std\", np.std(timings)) #0.004246095721556409\n",
    "    timing_dict[f\"{model_name}_kvaerno5\"] = {'mean': np.mean(timings),'std': 2** np.std(timings)}\n",
    "\n",
    "    #run the dopri5 solver\n",
    "    kinetic_model._change_solver(solver=diffrax.Dopri5(), rtol=1e-12, atol=1e-12,dtol=1e-8,icoeff=0.1)\n",
    "\n",
    "    ys = kinetic_model(ts=ts,\n",
    "                y0=model.y0,\n",
    "                params=model.parameters)\n",
    "\n",
    "\n",
    "    timings = []\n",
    "    for i in range(n_reps):\n",
    "        start= time.perf_counter()\n",
    "        ys = kinetic_model(ts=ts,\n",
    "                    y0=model.y0,\n",
    "                    params=model.parameters)\n",
    "        ys=pd.DataFrame(ys,columns=S.index)\n",
    "        end = time.perf_counter()\n",
    "        timings.append(end-start)\n",
    "\n",
    "    print(\"mean\", np.mean(timings)) #0.006830265596174286\n",
    "    print(\"std\", np.std(timings)) #0.004246095721556409\n",
    "    timing_dict[f\"{model_name}_dopri5\"] = {\"mean\": np.mean(timings), \"std\": np.std(timings)}\n",
    "\n",
    "    #run the cvode solver from amici\n",
    "\n",
    "        # filepath = \"models/sbml_models/working_models/\" + model_name + \".xml\"\n",
    "    output_dir = f\"results/timing_benchmark/pypesto_compiled_models/{model_names_pypesto_dir[k]}\"\n",
    "    model_module = amici.import_model_module(model_name, output_dir)\n",
    "    model = model_module.getModel()\n",
    "    ts=np.linspace(0,10,500)\n",
    "    model.setTimepoints(ts)\n",
    "    solver = model.getSolver()\n",
    "    solver.setAbsoluteTolerance(1e-12)\n",
    "    solver.setRelativeTolerance(1e-12)\n",
    "    solver.setSensitivityMethod(amici.SensitivityMethod_none)\n",
    "    solver.setMaxSteps(maxsteps=300000)\n",
    "\n",
    "    rdata = amici.runAmiciSimulation(model, solver)\n",
    "\n",
    "    timings=[]\n",
    "    for i in range(n_reps):\n",
    "        start= time.perf_counter()\n",
    "        rdata = amici.runAmiciSimulation(model, solver)\n",
    "\n",
    "        end = time.perf_counter()\n",
    "        timings.append(end-start)\n",
    "\n",
    "    print(\"mean\", np.mean(timings)) #0.006830265596174286\n",
    "    print(\"std\", np.std(timings)) #0.004246095721556409\n",
    "    timing_dict[f\"{model_name}_cvode\"] = {\"mean\": np.mean(timings), \"std\": np.std(timings)}\n",
    "\n",
    "\n",
    "\n"
   ],
   "id": "6002d136e6b78255",
   "outputs": [
    {
     "name": "stdout",
     "output_type": "stream",
     "text": [
      "17:22:05,247 - jax._src.xla_bridge - INFO - Unable to initialize backend 'rocm': module 'jaxlib.xla_extension' has no attribute 'GpuAllocatorConfig'\n",
      "17:22:05,252 - jax._src.xla_bridge - INFO - Unable to initialize backend 'tpu': INTERNAL: Failed to open libtpu.so: libtpu.so: cannot open shared object file: No such file or directory\n",
      "mean 0.010133862102520652\n",
      "std 0.0009166322431294692\n",
      "mean 0.0036117053008638323\n",
      "std 0.00019634109726631075\n",
      "mean 0.002231114701135084\n",
      "std 0.00015367312767491993\n",
      "mean 0.005267181605449878\n",
      "std 0.0006664866919553333\n",
      "mean 0.002605088401469402\n",
      "std 0.000231537925758812\n",
      "mean 0.001977550904848613\n",
      "std 0.0006342249539796311\n",
      "mean 0.004584958901978098\n",
      "std 0.00035002331665498406\n",
      "mean 1.2348238781967666\n",
      "std 0.11185014173636074\n",
      "mean 0.0019684474042151122\n",
      "std 0.0001281177354749127\n",
      "mean 0.007477586306049488\n",
      "std 0.0005347124075654328\n",
      "mean 0.003978110098978504\n",
      "std 0.00012371200162475756\n",
      "mean 0.002549432296655141\n",
      "std 0.0002276848986651051\n",
      "mean 0.1286804362986004\n",
      "std 0.02411886563772136\n",
      "mean 0.3586601176008116\n",
      "std 0.009121492214909183\n",
      "mean 0.018411525205010548\n",
      "std 0.0008071678120368881\n"
     ]
    }
   ],
   "execution_count": 2
  },
  {
   "metadata": {
    "ExecuteTime": {
     "end_time": "2025-04-30T15:22:53.171002Z",
     "start_time": "2025-04-30T15:22:53.162694Z"
    }
   },
   "cell_type": "code",
   "source": [
    "# Convert timing_dict to desired format\n",
    "results = {}\n",
    "\n",
    "for key, value in timing_dict.items():\n",
    "    model, solver = key.rsplit(\"_\", 1)\n",
    "    if model not in results:\n",
    "        results[model] = {}\n",
    "    results[model][solver] = f\"{value['mean']:.4f} ± {value['std']:.4f}\"\n",
    "\n",
    "df = pd.DataFrame(results).T  # Transpose to get models as rows\n",
    "df.index.name = \"Model\"\n",
    "df.columns.name = \"Solver\"\n",
    "\n",
    "print(df)\n",
    "\n",
    "# df.to_csv(\"results/timing_benchmark/time_benchmark_forward.csv\")\n",
    "\n"
   ],
   "id": "3d538fd6f659c016",
   "outputs": [
    {
     "name": "stdout",
     "output_type": "stream",
     "text": [
      "Solver                                   kvaerno5           dopri5  \\\n",
      "Model                                                                \n",
      "Smallbone2013_SerineBiosynthesis  0.0101 ± 1.0006  0.0036 ± 0.0002   \n",
      "Becker_Science2010                0.0053 ± 1.0005  0.0026 ± 0.0002   \n",
      "Fujita_SciSignal2010              0.0046 ± 1.0002  1.2348 ± 0.1119   \n",
      "Raia_CancerResearch               0.0075 ± 1.0004  0.0040 ± 0.0001   \n",
      "Messiha2013                       0.1287 ± 1.0169  0.3587 ± 0.0091   \n",
      "\n",
      "Solver                                      cvode  \n",
      "Model                                              \n",
      "Smallbone2013_SerineBiosynthesis  0.0022 ± 0.0002  \n",
      "Becker_Science2010                0.0020 ± 0.0006  \n",
      "Fujita_SciSignal2010              0.0020 ± 0.0001  \n",
      "Raia_CancerResearch               0.0025 ± 0.0002  \n",
      "Messiha2013                       0.0184 ± 0.0008  \n"
     ]
    }
   ],
   "execution_count": 3
  },
  {
   "metadata": {
    "ExecuteTime": {
     "end_time": "2025-04-29T12:28:05.737356Z",
     "start_time": "2025-04-29T12:28:05.731311Z"
    }
   },
   "cell_type": "code",
   "source": "kinetic_model.max_steps",
   "id": "788c9ae2b3ab8190",
   "outputs": [
    {
     "data": {
      "text/plain": [
       "300000"
      ]
     },
     "execution_count": 71,
     "metadata": {},
     "output_type": "execute_result"
    }
   ],
   "execution_count": 71
  },
  {
   "metadata": {
    "ExecuteTime": {
     "end_time": "2025-04-29T13:36:57.781770Z",
     "start_time": "2025-04-29T13:36:41.802623Z"
    }
   },
   "cell_type": "code",
   "source": [
    "## now lets look at pypesto/amici\n",
    "import amici\n",
    "\n",
    "\n",
    "for k, model_name in enumerate(model_names):\n",
    "\n",
    "    # filepath = \"models/sbml_models/working_models/\" + model_name + \".xml\"\n",
    "    output_dir = f\"results/timing_benchmark/pypesto_compiled_models/{model_names_pypesto_dir[k]}\"\n",
    "    model_module = amici.import_model_module(model_name, output_dir)\n",
    "    model = model_module.getModel()\n",
    "    ts=np.linspace(0,10,500)\n",
    "    model.setTimepoints(ts)\n",
    "    solver = model.getSolver()\n",
    "    solver.setLinearSolver(amici.LinearSolver_dense)\n",
    "    solver.setAbsoluteTolerance(1e-12)\n",
    "    solver.setRelativeTolerance(1e-12)\n",
    "    solver.setMaxSteps(maxsteps=300000)\n",
    "\n",
    "    rdata = amici.runAmiciSimulation(model, solver)\n",
    "\n",
    "    timings=[]\n",
    "    for i in range(n_reps):\n",
    "        start= time.perf_counter()\n",
    "        rdata = amici.runAmiciSimulation(model, solver)\n",
    "\n",
    "        end = time.perf_counter()\n",
    "        timings.append(end-start)\n",
    "\n",
    "    print(np.mean(timings))\n",
    "    # print(np.std(timings))\n",
    "\n",
    "\n"
   ],
   "id": "b9702652fabd092f",
   "outputs": [
    {
     "name": "stdout",
     "output_type": "stream",
     "text": [
      "0.003328111231850926\n",
      "0.002086444035579916\n",
      "0.0018909537083818576\n",
      "0.0021350679741299243\n",
      "0.02239957287395373\n"
     ]
    }
   ],
   "execution_count": 123
  },
  {
   "metadata": {
    "ExecuteTime": {
     "end_time": "2025-04-29T13:31:10.959440Z",
     "start_time": "2025-04-29T13:31:10.957048Z"
    }
   },
   "cell_type": "code",
   "source": "",
   "id": "ee62e61d99eed30d",
   "outputs": [],
   "execution_count": 119
  },
  {
   "metadata": {},
   "cell_type": "code",
   "outputs": [],
   "execution_count": null,
   "source": "",
   "id": "4d964f5fc7df706e"
  }
 ],
 "metadata": {
  "kernelspec": {
   "display_name": "Python 3",
   "language": "python",
   "name": "python3"
  },
  "language_info": {
   "codemirror_mode": {
    "name": "ipython",
    "version": 2
   },
   "file_extension": ".py",
   "mimetype": "text/x-python",
   "name": "python",
   "nbconvert_exporter": "python",
   "pygments_lexer": "ipython2",
   "version": "2.7.6"
  }
 },
 "nbformat": 4,
 "nbformat_minor": 5
}
