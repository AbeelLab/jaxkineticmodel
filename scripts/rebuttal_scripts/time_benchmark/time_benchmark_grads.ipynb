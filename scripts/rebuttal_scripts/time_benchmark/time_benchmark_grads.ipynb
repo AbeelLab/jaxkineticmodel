{
 "cells": [
  {
   "cell_type": "code",
   "id": "initial_id",
   "metadata": {
    "collapsed": true,
    "ExecuteTime": {
     "end_time": "2025-05-01T15:15:02.250609Z",
     "start_time": "2025-05-01T15:15:01.408602Z"
    }
   },
   "source": [
    "\n",
    "%cd /home/plent/Documenten/Gitlab/NeuralODEs/jax_neural_odes\n",
    "import amici\n",
    "import pandas as pd\n",
    "import numpy as np\n",
    "import time\n",
    "import matplotlib.pyplot as plt\n",
    "\n",
    "model_name = \"Smallbone2013_SerineBiosynthesis\"\n",
    "model_names_pypesto_dir = \"smallbone\"\n",
    "\n",
    "output_dir = f\"results/timing_benchmark/pypesto_compiled_models/{model_names_pypesto_dir}/\"\n",
    "model_module = amici.import_model_module(model_name, output_dir)\n",
    "model = model_module.getModel()\n",
    "\n",
    "# model.setParameterByName(parameter_name, value)"
   ],
   "outputs": [
    {
     "name": "stdout",
     "output_type": "stream",
     "text": [
      "/home/plent/Documenten/Gitlab/NeuralODEs/jax_neural_odes\n"
     ]
    }
   ],
   "execution_count": 4
  },
  {
   "metadata": {
    "ExecuteTime": {
     "end_time": "2025-05-01T15:15:02.258043Z",
     "start_time": "2025-05-01T15:15:02.255389Z"
    }
   },
   "cell_type": "code",
   "source": [
    "model_names = [\"Smallbone2013_SerineBiosynthesis\",\"Becker_Science2010\", \"Fujita_SciSignal2010\",\"Raia_CancerResearch\",\"Messiha2013\"]\n",
    "model_names_pypesto_dir=[\"smallbone\",\"becker\",\"fujita\",\"raia\",\"messiha\"]\n",
    "\n",
    "parameter_initializations_dirs = [\n",
    "    \"parameter_initializations/Smallbone2013_SerineBiosynthesis/Smallbone2013_SerineBiosynthesis_parameterset_id_lhs_N=100run_1bounds_10.csv\",\n",
    "    \"parameter_initializations/Becker_Science2010/Becker_Science2010_parameterset_id_lhs_N=100run_1bounds_10.csv\",\n",
    "    \"parameter_initializations/Fujita_SciSignal2010/Fujita_SciSignal2010_parameterset_id_lhs_N=100run_1bounds_10.csv\",\n",
    "    \"parameter_initializations/Raia_CancerResearch/Raia_CancerResearch_parameterset_id_lhs_N=100run_1bounds_10.csv\",\n",
    "    \"parameter_initializations/Messiha2013/Messiha2013_parameterset_id_lhs_N=100run_1bounds_10.csv\"\n",
    "\n",
    "]\n",
    "\n",
    "dataset_dirs = [\n",
    "    \"datasets/Smallbone2013 - Serine biosynthesis/Smallbone2013 - Serine biosynthesis_dataset.csv\",\n",
    "    \"datasets/Becker_Science2010/Becker_Science2010_dataset.csv\",\n",
    "    \"datasets/Fujita_SciSignal2010/Fujita_SciSignal2010_dataset.csv\",\n",
    "    \"datasets/Raia_CancerResearch/Raia_CancerResearch_dataset.csv\",\n",
    "    \"datasets/Messiha2013/Messiha2013_dataset.csv\",\n",
    "]\n",
    "\n"
   ],
   "id": "e1b4bd00e1f5b2a5",
   "outputs": [],
   "execution_count": 5
  },
  {
   "metadata": {
    "ExecuteTime": {
     "end_time": "2025-04-30T16:30:11.283938Z",
     "start_time": "2025-04-30T15:58:11.701153Z"
    }
   },
   "cell_type": "code",
   "source": [
    "n_reps = 10\n",
    "sensitivity_methods=[\"forward\",\"adjoint\"]\n",
    "\n",
    "\n",
    "timing_dict={}\n",
    "\n",
    "for sensitivity_method in sensitivity_methods:\n",
    "    for k,model_name in enumerate(model_names):\n",
    "        parameter_inits = pd.read_csv(parameter_initializations_dirs[k],index_col=0)\n",
    "        dataset = pd.read_csv(dataset_dirs[k],index_col=0)\n",
    "\n",
    "        # parameter_inits = pd.read_csv(\"parameter_initializations/Smallbone2013_SerineBiosynthesis/\"\n",
    "        #                               \"Smallbone2013_SerineBiosynthesis_parameterset_id_lhs_N=100run_1bounds_10.csv\",index_col=0)\n",
    "        # dataset = pd.read_csv(\"datasets/Smallbone2013 - Serine biosynthesis/\"\n",
    "        #                       \"Smallbone2013 - Serine biosynthesis_dataset.csv\",index_col=0)\n",
    "\n",
    "        output_dir = f\"results/timing_benchmark/pypesto_compiled_models/{model_names_pypesto_dir[k]}/\"\n",
    "        model_module = amici.import_model_module(model_name, output_dir)\n",
    "        model = model_module.getModel()\n",
    "\n",
    "        ts=dataset.index.to_list()\n",
    "        model.setTimepoints(ts)\n",
    "        solver = model.getSolver()\n",
    "        # solver.setLinearSolver(amici.LinearSolver_dense)\n",
    "        solver.setAbsoluteTolerance(1e-12)\n",
    "        solver.setRelativeTolerance(1e-12)\n",
    "        solver.setMaxSteps(maxsteps=300000)\n",
    "\n",
    "        model.requireSensitivitiesForAllParameters()\n",
    "\n",
    "        if sensitivity_method == \"adjoint\":\n",
    "            solver.setSensitivityMethod(amici.SensitivityMethod_adjoint)\n",
    "        elif sensitivity_method == \"forward\":\n",
    "            solver.setSensitivityMethod(amici.SensitivityMethod_forward)\n",
    "\n",
    "        solver.setSensitivityOrder(1)\n",
    "\n",
    "\n",
    "        rdata = amici.runAmiciSimulation(model, solver)\n",
    "\n",
    "\n",
    "        timings=[]\n",
    "        for i in range(n_reps):\n",
    "            for k in range(np.shape(parameter_inits)[0]):\n",
    "                parameter_set  = parameter_inits.iloc[k,:]\n",
    "                for i in parameter_set.keys():\n",
    "                    value = parameter_set.get(i)\n",
    "                    if \"lp.\" in i:\n",
    "                        i = i.replace(\"lp.\",\"\")\n",
    "                        i = i.replace(\".\",\"_\")\n",
    "                        try:\n",
    "                            model.setParameterByName(i, value)\n",
    "                        except:\n",
    "                            print(model_name,i)\n",
    "\n",
    "                start= time.perf_counter()\n",
    "                edata= amici.ExpData(np.shape(rdata.y)[1],\n",
    "                                     0,\n",
    "                                     0,\n",
    "                                     rdata.ts)\n",
    "                for i in range(np.shape(rdata.y)[1]):\n",
    "                    edata.setObservedData(rdata.y[:,i],i)\n",
    "\n",
    "                rdata = amici.runAmiciSimulation(model, solver,edata)\n",
    "                grads = rdata.sllh\n",
    "\n",
    "                end= time.perf_counter()\n",
    "                timings.append(end-start)\n",
    "        print(f\"{model_name}\", np.mean(timings))\n",
    "        timing_dict[f\"{model_name}_amici_{sensitivity_method}\"] = {\"mean\": np.mean(timings), \"std\": np.std(timings)}\n",
    "\n",
    "\n",
    "\n",
    "\n",
    "results = {}\n",
    "for key, value in timing_dict.items():\n",
    "    model, solver = key.rsplit(\"_\", 1)\n",
    "    if model not in results:\n",
    "        results[model] = {}\n",
    "    results[model][solver] = f\"{value['mean']:.4f} ± {value['std']:.4f}\"\n",
    "\n",
    "df = pd.DataFrame(results).T  # Transpose to get models as rows\n",
    "df.index.name = \"Model\"\n",
    "df.columns.name = \"Solver\"\n",
    "\n",
    "df.to_csv(\"results/timing_benchmark/time_benchmark_backward_amici.csv\")\n",
    "\n",
    "\n"
   ],
   "id": "e52b50113df4ca87",
   "outputs": [
    {
     "name": "stdout",
     "output_type": "stream",
     "text": [
      "Smallbone2013_SerineBiosynthesis 0.01490284414589405\n",
      "Becker_Science2010 0.007563441168022109\n",
      "Fujita_SciSignal2010 0.03375930980202975\n",
      "Raia_CancerResearch 0.02223484725636081\n",
      "Messiha2013 1.3979815172256493\n",
      "Smallbone2013_SerineBiosynthesis 0.010936258902569534\n",
      "Becker_Science2010 0.0014295104161719792\n",
      "Fujita_SciSignal2010 0.0028364455153932796\n",
      "Raia_CancerResearch 0.0033820676848117727\n",
      "Messiha2013 0.41885685367518455\n"
     ]
    }
   ],
   "execution_count": 283
  },
  {
   "metadata": {
    "ExecuteTime": {
     "end_time": "2025-04-30T16:30:28.123604Z",
     "start_time": "2025-04-30T16:30:28.025591Z"
    }
   },
   "cell_type": "code",
   "source": [
    "\n",
    "results = {}\n",
    "for key, value in timing_dict.items():\n",
    "    model, solver = key.rsplit(\"_\", 1)\n",
    "    if model not in results:\n",
    "        results[model] = {}\n",
    "    results[model][solver] = f\"{value['mean']:.4f} ± {value['std']:.4f}\"\n",
    "\n",
    "df = pd.DataFrame(results).T  # Transpose to get models as rows\n",
    "df.index.name = \"Model\"\n",
    "df.columns.name = \"Solver\"\n",
    "\n",
    "df.to_csv(\"results/timing_benchmark/time_benchmark_backward_amici.csv\")"
   ],
   "id": "9a6ae27242854760",
   "outputs": [],
   "execution_count": 284
  },
  {
   "metadata": {},
   "cell_type": "markdown",
   "source": "# Jaxkineticmodel grads",
   "id": "fcffc8a85ba3fe88"
  },
  {
   "metadata": {
    "ExecuteTime": {
     "end_time": "2025-05-01T15:14:48.240082Z",
     "start_time": "2025-05-01T15:14:47.662061Z"
    }
   },
   "cell_type": "code",
   "source": "import diffrax",
   "id": "4e73fd304dac7e05",
   "outputs": [],
   "execution_count": 1
  },
  {
   "metadata": {
    "ExecuteTime": {
     "end_time": "2025-05-01T15:15:05.939648Z",
     "start_time": "2025-05-01T15:15:05.936645Z"
    }
   },
   "cell_type": "code",
   "source": [
    "from jaxkineticmodel.load_sbml.sbml_model import SBMLModel\n",
    "import jax.numpy as jnp\n",
    "import pandas as pd\n",
    "import jax\n",
    "\n",
    "jax.config.update(\"jax_enable_x64\", True)\n",
    "\n"
   ],
   "id": "f6bd4a1a9ea84241",
   "outputs": [],
   "execution_count": 6
  },
  {
   "metadata": {
    "ExecuteTime": {
     "end_time": "2025-05-01T15:20:22.624377Z",
     "start_time": "2025-05-01T15:15:06.225704Z"
    }
   },
   "cell_type": "code",
   "source": [
    "def mse_loss_func(params, ts, ys, kmodel):\n",
    "    \"\"\"A typical mean squared error loss function\"\"\"\n",
    "    y0 = ys[0, :]\n",
    "    y_pred = kmodel(ts, y0, params)\n",
    "    loss = jnp.sum((y_pred - ys) ** 2)\n",
    "    return loss\n",
    "\n",
    "def wrapped_loss(params, ts, ys):\n",
    "    return mse_loss_func(params, ts, ys, JaxKmodel)\n",
    "\n",
    "\n",
    "model_names = [\"Smallbone2013_SerineBiosynthesis\",\"Becker_Science2010\", \"Fujita_SciSignal2010\",\"Raia_CancerResearch\",\"Messiha2013\"]\n",
    "\n",
    "n_reps=1\n",
    "for k,model_name in enumerate(model_names):\n",
    "\n",
    "\n",
    "    filepath = (f\"models/sbml_models/working_models/{model_name}.xml\")\n",
    "    parameter_inits = pd.read_csv(parameter_initializations_dirs[k],index_col=0)\n",
    "    dataset = pd.read_csv(dataset_dirs[k],index_col=0)\n",
    "\n",
    "\n",
    "\n",
    "    ts=dataset.index.to_list()\n",
    "    # load model from file_path\n",
    "    model = SBMLModel(filepath)\n",
    "\n",
    "    #replaces assignment rules, boundary conditions, etc..\n",
    "\n",
    "    S=model._get_stoichiometric_matrix()\n",
    "    JaxKmodel = model.get_kinetic_model()\n",
    "    JaxKmodel._change_solver(solver=diffrax.Dopri5(), rtol=1e-12, atol=1e-12,dtol=1e-8,icoeff=0.1)\n",
    "\n",
    "    try:\n",
    "\n",
    "        loss, grads = jax.value_and_grad(wrapped_loss, 0)(model.parameters, ts, jnp.array(np.array(dataset)))\n",
    "\n",
    "\n",
    "\n",
    "        timings=[]\n",
    "        for i in range(n_reps):\n",
    "            print(i)\n",
    "            for k in range(np.shape(parameter_inits)[0]):\n",
    "                parameter_set  = parameter_inits.iloc[k,:].to_dict()\n",
    "                start= time.perf_counter()\n",
    "                loss, grads = jax.value_and_grad(wrapped_loss, 0)(model.parameters, ts, jnp.array(np.array(dataset)))\n",
    "                end= time.perf_counter()\n",
    "                timings.append(end-start)\n",
    "        print(f\"{model_name}\", np.mean(timings))\n",
    "        timing_dict[f\"{model_name}_jaxkineticmodel_dopri\"] = {\"mean\": np.mean(timings), \"std\": np.std(timings)}\n",
    "    except:\n",
    "        continue\n"
   ],
   "id": "a4e453b637a11e32",
   "outputs": [
    {
     "name": "stdout",
     "output_type": "stream",
     "text": [
      "17:15:06,275 - jax._src.xla_bridge - INFO - Unable to initialize backend 'rocm': module 'jaxlib.xla_extension' has no attribute 'GpuAllocatorConfig'\n",
      "17:15:06,278 - jax._src.xla_bridge - INFO - Unable to initialize backend 'tpu': INTERNAL: Failed to open libtpu.so: libtpu.so: cannot open shared object file: No such file or directory\n",
      "0\n",
      "Smallbone2013_SerineBiosynthesis 0.01998769628989976\n",
      "0\n",
      "Becker_Science2010 0.016748073361814022\n",
      "0\n",
      "Raia_CancerResearch 0.04349284098832868\n",
      "0\n"
     ]
    }
   ],
   "execution_count": 7
  },
  {
   "metadata": {
    "ExecuteTime": {
     "end_time": "2025-05-01T15:11:16.814435Z",
     "start_time": "2025-05-01T15:11:16.810710Z"
    }
   },
   "cell_type": "code",
   "source": "timing_dict",
   "id": "18afcd5414139c7a",
   "outputs": [
    {
     "data": {
      "text/plain": [
       "{'Smallbone2013_SerineBiosynthesis_amici_forward': {'mean': 0.01490284414589405,\n",
       "  'std': 0.005877856013384586},\n",
       " 'Becker_Science2010_amici_forward': {'mean': 0.007563441168022109,\n",
       "  'std': 0.0034650659306721303},\n",
       " 'Fujita_SciSignal2010_amici_forward': {'mean': 0.03375930980202975,\n",
       "  'std': 0.012625524242626687},\n",
       " 'Raia_CancerResearch_amici_forward': {'mean': 0.02223484725636081,\n",
       "  'std': 0.0020737654513462624},\n",
       " 'Messiha2013_amici_forward': {'mean': 1.3979815172256493,\n",
       "  'std': 0.39099632742488966},\n",
       " 'Smallbone2013_SerineBiosynthesis_amici_adjoint': {'mean': 0.010936258902569534,\n",
       "  'std': 0.004055327172083837},\n",
       " 'Becker_Science2010_amici_adjoint': {'mean': 0.0014295104161719792,\n",
       "  'std': 0.0002762280963900279},\n",
       " 'Fujita_SciSignal2010_amici_adjoint': {'mean': 0.0028364455153932796,\n",
       "  'std': 0.0005591707438727477},\n",
       " 'Raia_CancerResearch_amici_adjoint': {'mean': 0.0033820676848117727,\n",
       "  'std': 0.00038557628651518825},\n",
       " 'Messiha2013_amici_adjoint': {'mean': 0.41885685367518455,\n",
       "  'std': 0.05258519090506267},\n",
       " 'Smallbone2013_SerineBiosynthesis_jaxkineticmodel': {'mean': 0.04915279960236512,\n",
       "  'std': 0.0024394130348002097},\n",
       " 'Becker_Science2010_jaxkineticmodel': {'mean': 0.03156433487276081,\n",
       "  'std': 0.0016012901974737192},\n",
       " 'Fujita_SciSignal2010_jaxkineticmodel': {'mean': 0.07595322637911886,\n",
       "  'std': 0.005430853407714804},\n",
       " 'Raia_CancerResearch_jaxkineticmodel': {'mean': 0.04171110962834791,\n",
       "  'std': 0.0017362930330350962},\n",
       " 'Messiha2013_jaxkineticmodel': {'mean': 0.991375112525362,\n",
       "  'std': 0.01639228543994091},\n",
       " 'Smallbone2013_SerineBiosynthesis_jaxkineticmodel_dopri': {'mean': 0.02395314389356645,\n",
       "  'std': 0.001521024380361028},\n",
       " 'Becker_Science2010_jaxkineticmodel_dopri': {'mean': 0.01831184166300227,\n",
       "  'std': 0.002605116004308501},\n",
       " 'Raia_CancerResearch_jaxkineticmodel_dopri': {'mean': 0.03676920753056766,\n",
       "  'std': 0.004869298353375545},\n",
       " 'Messiha2013_jaxkineticmodel_dopri': {'mean': 14.470049659681186,\n",
       "  'std': 1.534754026097984}}"
      ]
     },
     "execution_count": 357,
     "metadata": {},
     "output_type": "execute_result"
    }
   ],
   "execution_count": 357
  },
  {
   "metadata": {
    "ExecuteTime": {
     "end_time": "2025-05-01T15:12:25.754211Z",
     "start_time": "2025-05-01T15:12:25.746762Z"
    }
   },
   "cell_type": "code",
   "source": [
    "results = {}\n",
    "for key, value in timing_dict.items():\n",
    "    model, solver = key.rsplit(\"_\", 1)\n",
    "    if model not in results:\n",
    "        results[model] = {}\n",
    "    results[model][solver] = f\"{value['mean']:.4f} ± {value['std']:.4f}\"\n",
    "\n",
    "df = pd.DataFrame(results).T  # Transpose to get models as rows\n",
    "df.index.name = \"Model\"\n",
    "df.columns.name = \"Solver\"\n",
    "\n",
    "df['dopri']"
   ],
   "id": "a0f1570c57e431aa",
   "outputs": [
    {
     "data": {
      "text/plain": [
       "Model\n",
       "Smallbone2013_SerineBiosynthesis_amici                           NaN\n",
       "Becker_Science2010_amici                                         NaN\n",
       "Fujita_SciSignal2010_amici                                       NaN\n",
       "Raia_CancerResearch_amici                                        NaN\n",
       "Messiha2013_amici                                                NaN\n",
       "Smallbone2013_SerineBiosynthesis                                 NaN\n",
       "Becker_Science2010                                               NaN\n",
       "Fujita_SciSignal2010                                             NaN\n",
       "Raia_CancerResearch                                              NaN\n",
       "Messiha2013                                                      NaN\n",
       "Smallbone2013_SerineBiosynthesis_jaxkineticmodel     0.0240 ± 0.0015\n",
       "Becker_Science2010_jaxkineticmodel                   0.0183 ± 0.0026\n",
       "Raia_CancerResearch_jaxkineticmodel                  0.0368 ± 0.0049\n",
       "Messiha2013_jaxkineticmodel                         14.4700 ± 1.5348\n",
       "Name: dopri, dtype: object"
      ]
     },
     "execution_count": 359,
     "metadata": {},
     "output_type": "execute_result"
    }
   ],
   "execution_count": 359
  }
 ],
 "metadata": {
  "kernelspec": {
   "display_name": "Python 3",
   "language": "python",
   "name": "python3"
  },
  "language_info": {
   "codemirror_mode": {
    "name": "ipython",
    "version": 2
   },
   "file_extension": ".py",
   "mimetype": "text/x-python",
   "name": "python",
   "nbconvert_exporter": "python",
   "pygments_lexer": "ipython2",
   "version": "2.7.6"
  }
 },
 "nbformat": 4,
 "nbformat_minor": 5
}
