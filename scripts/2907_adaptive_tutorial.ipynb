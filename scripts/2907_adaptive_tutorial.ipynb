{
 "cells": [
  {
   "cell_type": "code",
   "execution_count": 39,
   "metadata": {},
   "outputs": [
    {
     "data": {
      "text/plain": [
       "array([[[[0. , 0. , 0. ],\n",
       "         [0. , 0. , 0. ],\n",
       "         [0. , 0. , 0. ]],\n",
       "\n",
       "        [[0.5, 0.5, 0.5],\n",
       "         [0.5, 0.5, 0.5],\n",
       "         [0.5, 0.5, 0.5]],\n",
       "\n",
       "        [[1. , 1. , 1. ],\n",
       "         [1. , 1. , 1. ],\n",
       "         [1. , 1. , 1. ]]],\n",
       "\n",
       "\n",
       "       [[[0. , 0. , 0. ],\n",
       "         [0. , 0. , 0. ],\n",
       "         [0. , 0. , 0. ]],\n",
       "\n",
       "        [[0.5, 0.5, 0.5],\n",
       "         [0.5, 0.5, 0.5],\n",
       "         [0.5, 0.5, 0.5]],\n",
       "\n",
       "        [[1. , 1. , 1. ],\n",
       "         [1. , 1. , 1. ],\n",
       "         [1. , 1. , 1. ]]],\n",
       "\n",
       "\n",
       "       [[[0. , 0. , 0. ],\n",
       "         [0. , 0. , 0. ],\n",
       "         [0. , 0. , 0. ]],\n",
       "\n",
       "        [[0.5, 0.5, 0.5],\n",
       "         [0.5, 0.5, 0.5],\n",
       "         [0.5, 0.5, 0.5]],\n",
       "\n",
       "        [[1. , 1. , 1. ],\n",
       "         [1. , 1. , 1. ],\n",
       "         [1. , 1. , 1. ]]]])"
      ]
     },
     "execution_count": 39,
     "metadata": {},
     "output_type": "execute_result"
    }
   ],
   "source": [
    "\n",
    "import numpy as np\n",
    "import matplotlib.pyplot as plt\n",
    "\n",
    "\n",
    "\n",
    "nx,ny,nz,na=(3,3,3,3)\n",
    "\n",
    "a=np.linspace(0,1,na)\n",
    "x = np.linspace(0, 1, nx)\n",
    "y = np.linspace(0, 1, ny)\n",
    "z= np.linspace(0,1,nz)\n",
    "\n",
    "\n",
    "av,xv,yv,zv=np.meshgrid(a,x,y,z)\n",
    "\n",
    "av\n",
    "# plt.plot(xv, yv, marker='o', color='k', linestyle='none')\n"
   ]
  }
 ],
 "metadata": {
  "kernelspec": {
   "display_name": "jax_env",
   "language": "python",
   "name": "python3"
  },
  "language_info": {
   "codemirror_mode": {
    "name": "ipython",
    "version": 3
   },
   "file_extension": ".py",
   "mimetype": "text/x-python",
   "name": "python",
   "nbconvert_exporter": "python",
   "pygments_lexer": "ipython3",
   "version": "3.12.3"
  }
 },
 "nbformat": 4,
 "nbformat_minor": 2
}
