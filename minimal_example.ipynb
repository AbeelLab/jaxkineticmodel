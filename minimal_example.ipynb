{
 "cells": [
  {
   "cell_type": "code",
   "execution_count": 1,
   "metadata": {},
   "outputs": [
    {
     "name": "stdout",
     "output_type": "stream",
     "text": [
      "# input evaluations  20\n",
      "# output evaluations  20\n",
      "[0.0, 2.63157895, 5.26315789, 7.89473684, 10.52631579, 13.15789474, 15.78947368, 18.42105263, 21.05263158, 23.68421053, 26.31578947, 28.94736842, 31.57894737, 34.21052632, 36.84210526, 39.47368421, 42.10526316, 44.73684211, 47.36842105, 50.0]\n"
     ]
    }
   ],
   "source": [
    "\n",
    "from assimulo.solvers import CVode\n",
    "from assimulo.problem import Explicit_Problem\n",
    "import numpy as np\n",
    "import matplotlib.pyplot as plt\n",
    "\n",
    "t=[ 0.          ,2.63157895,  5.26315789,  7.89473684 ,10.52631579, 13.15789474,\n",
    " 15.78947368, 18.42105263, 21.05263158, 23.68421053, 26.31578947, 28.94736842,\n",
    " 31.57894737, 34.21052632, 36.84210526, 39.47368421, 42.10526316, 44.73684211,\n",
    " 47.36842105, 50.        ]\n",
    "def Batch(t,y):  \n",
    "    qsmax=-0.4288179560674244 #CmolS.Cmolx-1.h_1\n",
    "    Ks= 0.0231995436988264 #Cmol.S.L-1\n",
    "    a=  -1.7781239845815182 #S requirement for biomass\n",
    "    ms=-0.0003873332954076 #CmolS.Cmolx-1.h-1\n",
    "    Cs,Cx=y\n",
    "    if Cs<0:\n",
    "        Cs=0\n",
    "    #Kinetic equations\n",
    "    qs=qsmax*(Cs/(Ks+Cs))\n",
    "    qx=(qs-ms)/a\n",
    "    #Rate equations\n",
    "    Rs=qs*Cx*1\n",
    "    Rx=qx*Cx*1\n",
    "    #Rc=-(Rs+Rx)  #Rco2 and Ro2\n",
    "    R=[Rs,Rx]\n",
    "    return R\n",
    "\n",
    "# {'qsmax': -0.4288179560674244, 'Ks': 0.0231995436988264, 'a': -1.7781239845815182, 'ms': -0.0003873332954076}\n",
    "y0=[3, 0.01]\n",
    "mod = Explicit_Problem(Batch, y0, np.min(t))\n",
    "sim = CVode(mod)\n",
    "sim.linear_solver='SPGMR'\n",
    "sim.verbosity=40\n",
    "\n",
    "print(\"# input evaluations \",len(t))\n",
    "t,y=sim.simulate(tfinal=np.max(t),ncp=0,ncp_list=list(t))\n",
    "print(\"# output evaluations \",len(t))\n",
    "print(t)\n",
    "# plt.plot(t,y)"
   ]
  }
 ],
 "metadata": {
  "kernelspec": {
   "display_name": "neural_odes",
   "language": "python",
   "name": "python3"
  },
  "language_info": {
   "codemirror_mode": {
    "name": "ipython",
    "version": 3
   },
   "file_extension": ".py",
   "mimetype": "text/x-python",
   "name": "python",
   "nbconvert_exporter": "python",
   "pygments_lexer": "ipython3",
   "version": "3.8.15"
  }
 },
 "nbformat": 4,
 "nbformat_minor": 2
}
