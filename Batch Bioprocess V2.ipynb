{
 "cells": [
  {
   "cell_type": "code",
   "execution_count": 1,
   "metadata": {},
   "outputs": [],
   "source": [
    "from scipy.integrate import solve_ivp\n",
    "import matplotlib.pyplot as plt\n",
    "import numpy as np\n",
    "from torch import optim\n",
    "\n",
    "import torch \n",
    "import torch.nn as nn\n",
    "from torchdiffeq import odeint_adjoint as odeint\n",
    "from torch.distributions.uniform import Uniform\n",
    "\n",
    "\n",
    "import pandas as pd\n"
   ]
  },
  {
   "cell_type": "code",
   "execution_count": 2,
   "metadata": {},
   "outputs": [],
   "source": [
    "# generate the dataset first\n",
    "def Batch(t,y,qsmax,Ks,a,ms):\n",
    "    Cs,Cx=y\n",
    "    if Cs<0:\n",
    "        Cs=0\n",
    "    #Kinetic equations\n",
    "    qs=qsmax*(Cs/(Ks+Cs))\n",
    "    qx=(qs-ms)/a\n",
    "    #Rate equations\n",
    "    Rs=qs*Cx*1\n",
    "    Rx=qx*Cx*1\n",
    "    #Rc=-(Rs+Rx)  #Rco2 and Ro2\n",
    "    R=[Rs,Rx]\n",
    "    return R\n",
    "\n",
    "\n",
    "qsmax=-0.3 #CmolS.Cmolx-1.h_1\n",
    "Ks=0.01 #Cmol.S.L-1\n",
    "a= -1.6 #S requirement for biomass\n",
    "ms=-0.01 #CmolS.Cmolx-1.h-1\n",
    "\n",
    "\n",
    "\n",
    "#Initial conditions\n",
    "Cs=3 #Cmol.L-1\n",
    "Cx=0.01 #Cmol.L-1\n",
    "Vl=1\n",
    "\n",
    "def Batch(t,y,qsmax,Ks,a,ms):\n",
    "    Cs,Cx=y\n",
    "    if Cs<0:\n",
    "        Cs=0\n",
    "    #Kinetic equations\n",
    "    qs=qsmax*(Cs/(Ks+Cs))\n",
    "    qx=(qs-ms)/a\n",
    "    #Rate equations\n",
    "    Rs=qs*Cx*1\n",
    "    Rx=qx*Cx*1\n",
    "    #Rc=-(Rs+Rx)  #Rco2 and Ro2\n",
    "    R=[Rs,Rx]\n",
    "    return R\n",
    "\n",
    "t = np.linspace(0, 50, 20)\n",
    "sol = solve_ivp(Batch, [0, 50], [3, 0.01], args=(qsmax,Ks,a,ms),t_eval=t,method=\"LSODA\")"
   ]
  },
  {
   "cell_type": "code",
   "execution_count": 3,
   "metadata": {},
   "outputs": [
    {
     "data": {
      "text/plain": [
       "(20,)"
      ]
     },
     "execution_count": 3,
     "metadata": {},
     "output_type": "execute_result"
    }
   ],
   "source": [
    "np.shape(sol.t)"
   ]
  },
  {
   "cell_type": "code",
   "execution_count": 4,
   "metadata": {},
   "outputs": [
    {
     "ename": "OSError",
     "evalue": "Cannot save file into a non-existent directory: 'Batch Bioprocess'",
     "output_type": "error",
     "traceback": [
      "\u001b[0;31m---------------------------------------------------------------------------\u001b[0m",
      "\u001b[0;31mOSError\u001b[0m                                   Traceback (most recent call last)",
      "\u001b[0;32m/tmp/ipykernel_143738/2245096398.py\u001b[0m in \u001b[0;36m<cell line: 5>\u001b[0;34m()\u001b[0m\n\u001b[1;32m      3\u001b[0m \u001b[0mdataset\u001b[0m\u001b[0;34m=\u001b[0m\u001b[0mpd\u001b[0m\u001b[0;34m.\u001b[0m\u001b[0mDataFrame\u001b[0m\u001b[0;34m(\u001b[0m\u001b[0msol\u001b[0m\u001b[0;34m.\u001b[0m\u001b[0my\u001b[0m\u001b[0;34m,\u001b[0m\u001b[0mcolumns\u001b[0m\u001b[0;34m=\u001b[0m\u001b[0msol\u001b[0m\u001b[0;34m.\u001b[0m\u001b[0mt\u001b[0m\u001b[0;34m,\u001b[0m\u001b[0mindex\u001b[0m\u001b[0;34m=\u001b[0m\u001b[0;34m[\u001b[0m\u001b[0;34m\"glucose\"\u001b[0m\u001b[0;34m,\u001b[0m\u001b[0;34m\"biomass\"\u001b[0m\u001b[0;34m]\u001b[0m\u001b[0;34m)\u001b[0m\u001b[0;34m\u001b[0m\u001b[0;34m\u001b[0m\u001b[0m\n\u001b[1;32m      4\u001b[0m \u001b[0;34m\u001b[0m\u001b[0m\n\u001b[0;32m----> 5\u001b[0;31m \u001b[0mdataset\u001b[0m\u001b[0;34m.\u001b[0m\u001b[0mto_csv\u001b[0m\u001b[0;34m(\u001b[0m\u001b[0;34m\"Batch Bioprocess/rawdata_batch_bioprocess.csv\"\u001b[0m\u001b[0;34m,\u001b[0m\u001b[0;34m)\u001b[0m\u001b[0;34m\u001b[0m\u001b[0;34m\u001b[0m\u001b[0m\n\u001b[0m",
      "\u001b[0;32m~/anaconda3/envs/skimpy-env/lib/python3.8/site-packages/pandas/core/generic.py\u001b[0m in \u001b[0;36mto_csv\u001b[0;34m(self, path_or_buf, sep, na_rep, float_format, columns, header, index, index_label, mode, encoding, compression, quoting, quotechar, line_terminator, chunksize, date_format, doublequote, escapechar, decimal, errors, storage_options)\u001b[0m\n\u001b[1;32m   3549\u001b[0m         )\n\u001b[1;32m   3550\u001b[0m \u001b[0;34m\u001b[0m\u001b[0m\n\u001b[0;32m-> 3551\u001b[0;31m         return DataFrameRenderer(formatter).to_csv(\n\u001b[0m\u001b[1;32m   3552\u001b[0m             \u001b[0mpath_or_buf\u001b[0m\u001b[0;34m,\u001b[0m\u001b[0;34m\u001b[0m\u001b[0;34m\u001b[0m\u001b[0m\n\u001b[1;32m   3553\u001b[0m             \u001b[0mline_terminator\u001b[0m\u001b[0;34m=\u001b[0m\u001b[0mline_terminator\u001b[0m\u001b[0;34m,\u001b[0m\u001b[0;34m\u001b[0m\u001b[0;34m\u001b[0m\u001b[0m\n",
      "\u001b[0;32m~/anaconda3/envs/skimpy-env/lib/python3.8/site-packages/pandas/io/formats/format.py\u001b[0m in \u001b[0;36mto_csv\u001b[0;34m(self, path_or_buf, encoding, sep, columns, index_label, mode, compression, quoting, quotechar, line_terminator, chunksize, date_format, doublequote, escapechar, errors, storage_options)\u001b[0m\n\u001b[1;32m   1178\u001b[0m             \u001b[0mformatter\u001b[0m\u001b[0;34m=\u001b[0m\u001b[0mself\u001b[0m\u001b[0;34m.\u001b[0m\u001b[0mfmt\u001b[0m\u001b[0;34m,\u001b[0m\u001b[0;34m\u001b[0m\u001b[0;34m\u001b[0m\u001b[0m\n\u001b[1;32m   1179\u001b[0m         )\n\u001b[0;32m-> 1180\u001b[0;31m         \u001b[0mcsv_formatter\u001b[0m\u001b[0;34m.\u001b[0m\u001b[0msave\u001b[0m\u001b[0;34m(\u001b[0m\u001b[0;34m)\u001b[0m\u001b[0;34m\u001b[0m\u001b[0;34m\u001b[0m\u001b[0m\n\u001b[0m\u001b[1;32m   1181\u001b[0m \u001b[0;34m\u001b[0m\u001b[0m\n\u001b[1;32m   1182\u001b[0m         \u001b[0;32mif\u001b[0m \u001b[0mcreated_buffer\u001b[0m\u001b[0;34m:\u001b[0m\u001b[0;34m\u001b[0m\u001b[0;34m\u001b[0m\u001b[0m\n",
      "\u001b[0;32m~/anaconda3/envs/skimpy-env/lib/python3.8/site-packages/pandas/io/formats/csvs.py\u001b[0m in \u001b[0;36msave\u001b[0;34m(self)\u001b[0m\n\u001b[1;32m    239\u001b[0m         \"\"\"\n\u001b[1;32m    240\u001b[0m         \u001b[0;31m# apply compression and byte/text conversion\u001b[0m\u001b[0;34m\u001b[0m\u001b[0;34m\u001b[0m\u001b[0;34m\u001b[0m\u001b[0m\n\u001b[0;32m--> 241\u001b[0;31m         with get_handle(\n\u001b[0m\u001b[1;32m    242\u001b[0m             \u001b[0mself\u001b[0m\u001b[0;34m.\u001b[0m\u001b[0mfilepath_or_buffer\u001b[0m\u001b[0;34m,\u001b[0m\u001b[0;34m\u001b[0m\u001b[0;34m\u001b[0m\u001b[0m\n\u001b[1;32m    243\u001b[0m             \u001b[0mself\u001b[0m\u001b[0;34m.\u001b[0m\u001b[0mmode\u001b[0m\u001b[0;34m,\u001b[0m\u001b[0;34m\u001b[0m\u001b[0;34m\u001b[0m\u001b[0m\n",
      "\u001b[0;32m~/anaconda3/envs/skimpy-env/lib/python3.8/site-packages/pandas/io/common.py\u001b[0m in \u001b[0;36mget_handle\u001b[0;34m(path_or_buf, mode, encoding, compression, memory_map, is_text, errors, storage_options)\u001b[0m\n\u001b[1;32m    695\u001b[0m     \u001b[0;31m# Only for write methods\u001b[0m\u001b[0;34m\u001b[0m\u001b[0;34m\u001b[0m\u001b[0;34m\u001b[0m\u001b[0m\n\u001b[1;32m    696\u001b[0m     \u001b[0;32mif\u001b[0m \u001b[0;34m\"r\"\u001b[0m \u001b[0;32mnot\u001b[0m \u001b[0;32min\u001b[0m \u001b[0mmode\u001b[0m \u001b[0;32mand\u001b[0m \u001b[0mis_path\u001b[0m\u001b[0;34m:\u001b[0m\u001b[0;34m\u001b[0m\u001b[0;34m\u001b[0m\u001b[0m\n\u001b[0;32m--> 697\u001b[0;31m         \u001b[0mcheck_parent_directory\u001b[0m\u001b[0;34m(\u001b[0m\u001b[0mstr\u001b[0m\u001b[0;34m(\u001b[0m\u001b[0mhandle\u001b[0m\u001b[0;34m)\u001b[0m\u001b[0;34m)\u001b[0m\u001b[0;34m\u001b[0m\u001b[0;34m\u001b[0m\u001b[0m\n\u001b[0m\u001b[1;32m    698\u001b[0m \u001b[0;34m\u001b[0m\u001b[0m\n\u001b[1;32m    699\u001b[0m     \u001b[0;32mif\u001b[0m \u001b[0mcompression\u001b[0m\u001b[0;34m:\u001b[0m\u001b[0;34m\u001b[0m\u001b[0;34m\u001b[0m\u001b[0m\n",
      "\u001b[0;32m~/anaconda3/envs/skimpy-env/lib/python3.8/site-packages/pandas/io/common.py\u001b[0m in \u001b[0;36mcheck_parent_directory\u001b[0;34m(path)\u001b[0m\n\u001b[1;32m    569\u001b[0m     \u001b[0mparent\u001b[0m \u001b[0;34m=\u001b[0m \u001b[0mPath\u001b[0m\u001b[0;34m(\u001b[0m\u001b[0mpath\u001b[0m\u001b[0;34m)\u001b[0m\u001b[0;34m.\u001b[0m\u001b[0mparent\u001b[0m\u001b[0;34m\u001b[0m\u001b[0;34m\u001b[0m\u001b[0m\n\u001b[1;32m    570\u001b[0m     \u001b[0;32mif\u001b[0m \u001b[0;32mnot\u001b[0m \u001b[0mparent\u001b[0m\u001b[0;34m.\u001b[0m\u001b[0mis_dir\u001b[0m\u001b[0;34m(\u001b[0m\u001b[0;34m)\u001b[0m\u001b[0;34m:\u001b[0m\u001b[0;34m\u001b[0m\u001b[0;34m\u001b[0m\u001b[0m\n\u001b[0;32m--> 571\u001b[0;31m         \u001b[0;32mraise\u001b[0m \u001b[0mOSError\u001b[0m\u001b[0;34m(\u001b[0m\u001b[0;34mrf\"Cannot save file into a non-existent directory: '{parent}'\"\u001b[0m\u001b[0;34m)\u001b[0m\u001b[0;34m\u001b[0m\u001b[0;34m\u001b[0m\u001b[0m\n\u001b[0m\u001b[1;32m    572\u001b[0m \u001b[0;34m\u001b[0m\u001b[0m\n\u001b[1;32m    573\u001b[0m \u001b[0;34m\u001b[0m\u001b[0m\n",
      "\u001b[0;31mOSError\u001b[0m: Cannot save file into a non-existent directory: 'Batch Bioprocess'"
     ]
    }
   ],
   "source": [
    "# sol.t\n",
    "\n",
    "dataset=pd.DataFrame(sol.y,columns=sol.t,index=[\"glucose\",\"biomass\"])\n",
    "\n",
    "dataset.to_csv(\"Batch Bioprocess/rawdata_batch_bioprocess.csv\",)"
   ]
  },
  {
   "cell_type": "code",
   "execution_count": 33,
   "metadata": {},
   "outputs": [],
   "source": [
    "\n",
    "    \n",
    "\n",
    "class Bioprocess(nn.Module):\n",
    "    \"\"\" \n",
    "    Batch Bioprocess. # parameter_dictionary\n",
    "    \"\"\"\n",
    "    def __init__(self, \n",
    "                 parameter_dict\n",
    "                 ):\n",
    "        super().__init__() \n",
    "        self.qsmax = torch.nn.Parameter(torch.tensor(parameter_dict['qsmax'])) # make mu a learnable parameter\n",
    "        self.Ks = torch.nn.Parameter(torch.tensor(parameter_dict['Ks']))\n",
    "        self.a = torch.nn.Parameter(torch.tensor(parameter_dict['a']))\n",
    "        self.ms = torch.nn.Parameter(torch.tensor(parameter_dict['ms']))\n",
    "        \n",
    "    def forward(self, \n",
    "                t: float, # time index\n",
    "                state:torch.TensorType, # state of the system first dimension is the batch size\n",
    "                ) -> torch.Tensor: # return the derivative of the state\n",
    "        \"\"\" \n",
    "            Define the right hand side of the VDP oscillator.\n",
    "        \"\"\"\n",
    "        Cs=state[0]\n",
    "        Cx=state[1]\n",
    "        \n",
    "        if Cs<0:\n",
    "            Cs=0\n",
    "        #Kinetic equations\n",
    "        qs=self.qsmax*(Cs/(self.Ks+Cs))\n",
    "        qx=(qs-self.ms)/self.a\n",
    "\n",
    "        #Rate equations\n",
    "        Rs=qs*Cx*1\n",
    "        Rx=qx*Cx*1\n",
    "        #Rc=-(Rs+Rx)  #Rco2 and Ro2\n",
    "\n",
    "\n",
    "        return torch.Tensor([Rs,Rx])\n",
    "    \n",
    "    def __repr__(self):\n",
    "        \"\"\"Print the parameters of the model.\"\"\"\n",
    "        return f\" qsmax: {self.qsmax.item()}, a:{self.a.item()}, ms:{self.ms.item()}, Ks:{self.Ks.item()}\"\n",
    "\n",
    "    \n",
    "\n"
   ]
  },
  {
   "cell_type": "code",
   "execution_count": 38,
   "metadata": {},
   "outputs": [],
   "source": [
    "param1=float(Uniform(-0.5,-0.1).sample((1,)))\n",
    "param2=float(Uniform(0.000,0.1).sample((1,)))        \n",
    "param3=float(Uniform(-1.8,-1.40).sample((1,)))\n",
    "param4=float(Uniform(-0.1,0.100).sample((1,)))   \n",
    "parameter_dict={\"qsmax\":param1,\"Ks\":param2,\"a\":param3,\"ms\":param4}\n",
    "\n",
    "worker_ode=Bioprocess(parameter_dict)\n",
    "\n",
    "tensor_timestamps = torch.linspace(0,100,20)\n",
    "\n",
    "\n",
    "tensor_concentrations=torch.tensor(sol.y, dtype=torch.float64, requires_grad=False)\n",
    "rows,cols=np.shape(tensor_concentrations)\n",
    "tensor_concentrations=torch.reshape(tensor_concentrations,shape=(1,rows,cols))\n",
    "predicted_c = odeint(func=worker_ode, y0=tensor_concentrations[0][:,0], t=tensor_timestamps,method=\"scipy_solver\",options={\"solver\":\"LSODA\"})\n",
    "\n",
    "# tensor_concentrations[0][:,0]\n"
   ]
  },
  {
   "cell_type": "code",
   "execution_count": 41,
   "metadata": {},
   "outputs": [
    {
     "data": {
      "text/plain": [
       "tensor([[3.0000e+00, 1.0000e-02],\n",
       "        [2.9913e+00, 1.3003e-02],\n",
       "        [2.9800e+00, 1.6907e-02],\n",
       "        [2.9652e+00, 2.1982e-02],\n",
       "        [2.9461e+00, 2.8579e-02],\n",
       "        [2.9212e+00, 3.7153e-02],\n",
       "        [2.8889e+00, 4.8294e-02],\n",
       "        [2.8468e+00, 6.2767e-02],\n",
       "        [2.7922e+00, 8.1563e-02],\n",
       "        [2.7214e+00, 1.0596e-01],\n",
       "        [2.6293e+00, 1.3761e-01],\n",
       "        [2.5100e+00, 1.7863e-01],\n",
       "        [2.3554e+00, 2.3172e-01],\n",
       "        [2.1554e+00, 3.0029e-01],\n",
       "        [1.8974e+00, 3.8856e-01],\n",
       "        [1.5658e+00, 5.0150e-01],\n",
       "        [1.1438e+00, 6.4416e-01],\n",
       "        [6.1985e-01, 8.1764e-01],\n",
       "        [7.1317e-02, 9.7469e-01],\n",
       "        [9.4907e-06, 8.5538e-01]], dtype=torch.float64,\n",
       "       grad_fn=<OdeintAdjointMethodBackward>)"
      ]
     },
     "execution_count": 41,
     "metadata": {},
     "output_type": "execute_result"
    }
   ],
   "source": [
    "predicted_c"
   ]
  },
  {
   "cell_type": "code",
   "execution_count": 16,
   "metadata": {},
   "outputs": [
    {
     "data": {
      "text/plain": [
       "tensor([3.0000, 0.0100], dtype=torch.float64)"
      ]
     },
     "execution_count": 16,
     "metadata": {},
     "output_type": "execute_result"
    }
   ],
   "source": [
    "tensor_concentrations[0][:,0]"
   ]
  },
  {
   "cell_type": "code",
   "execution_count": 5,
   "metadata": {},
   "outputs": [
    {
     "ename": "NameError",
     "evalue": "name 'Bioprocess' is not defined",
     "output_type": "error",
     "traceback": [
      "\u001b[0;31m---------------------------------------------------------------------------\u001b[0m",
      "\u001b[0;31mNameError\u001b[0m                                 Traceback (most recent call last)",
      "\u001b[0;32m/tmp/ipykernel_143738/565784169.py\u001b[0m in \u001b[0;36m<cell line: 9>\u001b[0;34m()\u001b[0m\n\u001b[1;32m      7\u001b[0m \u001b[0mparameter_dict\u001b[0m\u001b[0;34m=\u001b[0m\u001b[0;34m{\u001b[0m\u001b[0;34m\"qsmax\"\u001b[0m\u001b[0;34m:\u001b[0m\u001b[0mparam1\u001b[0m\u001b[0;34m,\u001b[0m\u001b[0;34m\"Ks\"\u001b[0m\u001b[0;34m:\u001b[0m\u001b[0mparam2\u001b[0m\u001b[0;34m,\u001b[0m\u001b[0;34m\"a\"\u001b[0m\u001b[0;34m:\u001b[0m\u001b[0mparam3\u001b[0m\u001b[0;34m,\u001b[0m\u001b[0;34m\"ms\"\u001b[0m\u001b[0;34m:\u001b[0m\u001b[0mparam4\u001b[0m\u001b[0;34m}\u001b[0m\u001b[0;34m\u001b[0m\u001b[0;34m\u001b[0m\u001b[0m\n\u001b[1;32m      8\u001b[0m \u001b[0;34m\u001b[0m\u001b[0m\n\u001b[0;32m----> 9\u001b[0;31m \u001b[0mworker_ode\u001b[0m\u001b[0;34m=\u001b[0m\u001b[0mBioprocess\u001b[0m\u001b[0;34m(\u001b[0m\u001b[0mparameter_dict\u001b[0m\u001b[0;34m)\u001b[0m\u001b[0;34m\u001b[0m\u001b[0;34m\u001b[0m\u001b[0m\n\u001b[0m\u001b[1;32m     10\u001b[0m \u001b[0;34m\u001b[0m\u001b[0m\n\u001b[1;32m     11\u001b[0m \u001b[0;34m\u001b[0m\u001b[0m\n",
      "\u001b[0;31mNameError\u001b[0m: name 'Bioprocess' is not defined"
     ]
    }
   ],
   "source": [
    "device=torch.device('cpu')\n",
    "\n",
    "param1=float(Uniform(-0.5,-0.1).sample((1,)))\n",
    "param2=float(Uniform(0.000,0.1).sample((1,)))        \n",
    "param3=float(Uniform(-1.8,-1.40).sample((1,)))\n",
    "param4=float(Uniform(-0.1,0.100).sample((1,)))   \n",
    "parameter_dict={\"qsmax\":param1,\"Ks\":param2,\"a\":param3,\"ms\":param4}\n",
    "\n",
    "worker_ode=Bioprocess(parameter_dict)\n",
    "\n",
    "\n",
    "\n",
    "tensor_timestamps = torch.linspace(0,50,20)\n",
    "\n",
    "\n",
    "tensor_concentrations=torch.tensor(sol.y, dtype=torch.float64, requires_grad=False)\n",
    "rows,cols=np.shape(tensor_concentrations)\n",
    "tensor_concentrations=torch.reshape(tensor_concentrations,shape=(1,rows,cols))\n",
    "\n",
    "\n",
    "\n",
    "\n",
    "\n",
    "def loss_func():\n",
    "    tensor_c0=tensor_concentrations[0][:,0]  \n",
    "    tensor_c0=tensor_c0.reshape(shape=(1,2))\n",
    "\n",
    "    #target dataset\n",
    "    target=tensor_concentrations[0].T\n",
    "\n",
    "    #predicted dataset\n",
    "    predicted_c = odeint(func=worker_ode, y0=tensor_c0, t=tensor_timestamps,method=\"scipy_solver\",options={\"solver\":\"LSODA\"})\n",
    "    predicted_c=predicted_c[:,0,:]\n",
    "    ls =torch.mean(torch.square((predicted_c - target)))\n",
    "    return ls\n",
    "\n",
    "\n"
   ]
  },
  {
   "cell_type": "code",
   "execution_count": 32,
   "metadata": {},
   "outputs": [
    {
     "ename": "NameError",
     "evalue": "name 'tensor_c0' is not defined",
     "output_type": "error",
     "traceback": [
      "\u001b[0;31m---------------------------------------------------------------------------\u001b[0m",
      "\u001b[0;31mNameError\u001b[0m                                 Traceback (most recent call last)",
      "\u001b[0;32m/tmp/ipykernel_31532/2866938975.py\u001b[0m in \u001b[0;36m<cell line: 2>\u001b[0;34m()\u001b[0m\n\u001b[1;32m      1\u001b[0m \u001b[0mnp\u001b[0m\u001b[0;34m.\u001b[0m\u001b[0mshape\u001b[0m\u001b[0;34m(\u001b[0m\u001b[0mtensor_concentrations\u001b[0m\u001b[0;34m)\u001b[0m \u001b[0;31m#1,2,20\u001b[0m\u001b[0;34m\u001b[0m\u001b[0;34m\u001b[0m\u001b[0m\n\u001b[0;32m----> 2\u001b[0;31m \u001b[0mnp\u001b[0m\u001b[0;34m.\u001b[0m\u001b[0mshape\u001b[0m\u001b[0;34m(\u001b[0m\u001b[0mtensor_c0\u001b[0m\u001b[0;34m)\u001b[0m\u001b[0;34m\u001b[0m\u001b[0;34m\u001b[0m\u001b[0m\n\u001b[0m",
      "\u001b[0;31mNameError\u001b[0m: name 'tensor_c0' is not defined"
     ]
    }
   ],
   "source": [
    "np.shape(tensor_concentrations) #1,2,20\n",
    "np.shape(tensor_c0)"
   ]
  },
  {
   "cell_type": "code",
   "execution_count": 5,
   "metadata": {},
   "outputs": [],
   "source": [
    "\n",
    "\n",
    "\n",
    "\n",
    "get_loss_per_iteration=[]\n",
    "qsmax_per_iteration=[]\n",
    "a_per_iteration=[]\n",
    "Ks_per_iteration=[]\n",
    "ms_per_iteration=[]\n"
   ]
  },
  {
   "attachments": {},
   "cell_type": "markdown",
   "metadata": {},
   "source": [
    "## Minimize loss"
   ]
  },
  {
   "cell_type": "code",
   "execution_count": 8,
   "metadata": {},
   "outputs": [
    {
     "name": "stdout",
     "output_type": "stream",
     "text": [
      "tensor(0.0004, dtype=torch.float64, grad_fn=<MeanBackward0>)\n",
      "tensor(0.0006, dtype=torch.float64, grad_fn=<MeanBackward0>)\n",
      "tensor(0.0004, dtype=torch.float64, grad_fn=<MeanBackward0>)\n",
      "tensor(0.0005, dtype=torch.float64, grad_fn=<MeanBackward0>)\n",
      "tensor(0.0006, dtype=torch.float64, grad_fn=<MeanBackward0>)\n",
      "tensor(0.0005, dtype=torch.float64, grad_fn=<MeanBackward0>)\n",
      "tensor(0.0004, dtype=torch.float64, grad_fn=<MeanBackward0>)\n",
      "tensor(0.0004, dtype=torch.float64, grad_fn=<MeanBackward0>)\n",
      "tensor(0.0004, dtype=torch.float64, grad_fn=<MeanBackward0>)\n",
      "tensor(0.0004, dtype=torch.float64, grad_fn=<MeanBackward0>)\n",
      "tensor(0.0004, dtype=torch.float64, grad_fn=<MeanBackward0>)\n",
      "tensor(0.0003, dtype=torch.float64, grad_fn=<MeanBackward0>)\n",
      "tensor(0.0003, dtype=torch.float64, grad_fn=<MeanBackward0>)\n",
      "tensor(0.0004, dtype=torch.float64, grad_fn=<MeanBackward0>)\n",
      "tensor(0.0004, dtype=torch.float64, grad_fn=<MeanBackward0>)\n",
      "tensor(0.0004, dtype=torch.float64, grad_fn=<MeanBackward0>)\n",
      "tensor(0.0003, dtype=torch.float64, grad_fn=<MeanBackward0>)\n",
      "tensor(0.0003, dtype=torch.float64, grad_fn=<MeanBackward0>)\n",
      "tensor(0.0003, dtype=torch.float64, grad_fn=<MeanBackward0>)\n",
      "tensor(0.0003, dtype=torch.float64, grad_fn=<MeanBackward0>)\n",
      "tensor(0.0003, dtype=torch.float64, grad_fn=<MeanBackward0>)\n",
      "tensor(0.0003, dtype=torch.float64, grad_fn=<MeanBackward0>)\n",
      "tensor(0.0003, dtype=torch.float64, grad_fn=<MeanBackward0>)\n",
      "tensor(0.0003, dtype=torch.float64, grad_fn=<MeanBackward0>)\n",
      "tensor(0.0003, dtype=torch.float64, grad_fn=<MeanBackward0>)\n",
      "tensor(0.0003, dtype=torch.float64, grad_fn=<MeanBackward0>)\n",
      "tensor(0.0003, dtype=torch.float64, grad_fn=<MeanBackward0>)\n",
      "tensor(0.0003, dtype=torch.float64, grad_fn=<MeanBackward0>)\n",
      "tensor(0.0003, dtype=torch.float64, grad_fn=<MeanBackward0>)\n",
      "tensor(0.0003, dtype=torch.float64, grad_fn=<MeanBackward0>)\n",
      "tensor(0.0003, dtype=torch.float64, grad_fn=<MeanBackward0>)\n",
      "tensor(0.0003, dtype=torch.float64, grad_fn=<MeanBackward0>)\n",
      "tensor(0.0003, dtype=torch.float64, grad_fn=<MeanBackward0>)\n",
      "tensor(0.0003, dtype=torch.float64, grad_fn=<MeanBackward0>)\n",
      "tensor(0.0003, dtype=torch.float64, grad_fn=<MeanBackward0>)\n",
      "tensor(0.0003, dtype=torch.float64, grad_fn=<MeanBackward0>)\n",
      "tensor(0.0003, dtype=torch.float64, grad_fn=<MeanBackward0>)\n",
      "tensor(0.0003, dtype=torch.float64, grad_fn=<MeanBackward0>)\n",
      "tensor(0.0003, dtype=torch.float64, grad_fn=<MeanBackward0>)\n",
      "tensor(0.0003, dtype=torch.float64, grad_fn=<MeanBackward0>)\n",
      "tensor(0.0003, dtype=torch.float64, grad_fn=<MeanBackward0>)\n",
      "tensor(0.0002, dtype=torch.float64, grad_fn=<MeanBackward0>)\n",
      "tensor(0.0002, dtype=torch.float64, grad_fn=<MeanBackward0>)\n",
      "tensor(0.0002, dtype=torch.float64, grad_fn=<MeanBackward0>)\n",
      "tensor(0.0002, dtype=torch.float64, grad_fn=<MeanBackward0>)\n",
      "tensor(0.0002, dtype=torch.float64, grad_fn=<MeanBackward0>)\n",
      "tensor(0.0002, dtype=torch.float64, grad_fn=<MeanBackward0>)\n",
      "tensor(0.0002, dtype=torch.float64, grad_fn=<MeanBackward0>)\n",
      "tensor(0.0002, dtype=torch.float64, grad_fn=<MeanBackward0>)\n",
      "tensor(0.0002, dtype=torch.float64, grad_fn=<MeanBackward0>)\n",
      "tensor(0.0002, dtype=torch.float64, grad_fn=<MeanBackward0>)\n",
      "tensor(0.0002, dtype=torch.float64, grad_fn=<MeanBackward0>)\n",
      "tensor(0.0002, dtype=torch.float64, grad_fn=<MeanBackward0>)\n",
      "tensor(0.0002, dtype=torch.float64, grad_fn=<MeanBackward0>)\n",
      "tensor(0.0002, dtype=torch.float64, grad_fn=<MeanBackward0>)\n",
      "tensor(0.0002, dtype=torch.float64, grad_fn=<MeanBackward0>)\n",
      "tensor(0.0002, dtype=torch.float64, grad_fn=<MeanBackward0>)\n",
      "tensor(0.0002, dtype=torch.float64, grad_fn=<MeanBackward0>)\n",
      "tensor(0.0002, dtype=torch.float64, grad_fn=<MeanBackward0>)\n",
      "tensor(0.0002, dtype=torch.float64, grad_fn=<MeanBackward0>)\n",
      "tensor(0.0002, dtype=torch.float64, grad_fn=<MeanBackward0>)\n",
      "tensor(0.0002, dtype=torch.float64, grad_fn=<MeanBackward0>)\n",
      "tensor(0.0002, dtype=torch.float64, grad_fn=<MeanBackward0>)\n",
      "tensor(0.0002, dtype=torch.float64, grad_fn=<MeanBackward0>)\n",
      "tensor(0.0002, dtype=torch.float64, grad_fn=<MeanBackward0>)\n",
      "tensor(0.0002, dtype=torch.float64, grad_fn=<MeanBackward0>)\n",
      "tensor(0.0002, dtype=torch.float64, grad_fn=<MeanBackward0>)\n",
      "tensor(0.0002, dtype=torch.float64, grad_fn=<MeanBackward0>)\n",
      "tensor(0.0002, dtype=torch.float64, grad_fn=<MeanBackward0>)\n",
      "tensor(0.0002, dtype=torch.float64, grad_fn=<MeanBackward0>)\n",
      "tensor(0.0002, dtype=torch.float64, grad_fn=<MeanBackward0>)\n",
      "tensor(0.0002, dtype=torch.float64, grad_fn=<MeanBackward0>)\n",
      "tensor(0.0002, dtype=torch.float64, grad_fn=<MeanBackward0>)\n",
      "tensor(0.0002, dtype=torch.float64, grad_fn=<MeanBackward0>)\n",
      "tensor(0.0002, dtype=torch.float64, grad_fn=<MeanBackward0>)\n",
      "tensor(0.0002, dtype=torch.float64, grad_fn=<MeanBackward0>)\n",
      "tensor(0.0001, dtype=torch.float64, grad_fn=<MeanBackward0>)\n",
      "tensor(0.0001, dtype=torch.float64, grad_fn=<MeanBackward0>)\n",
      "tensor(0.0001, dtype=torch.float64, grad_fn=<MeanBackward0>)\n",
      "tensor(0.0001, dtype=torch.float64, grad_fn=<MeanBackward0>)\n",
      "tensor(0.0001, dtype=torch.float64, grad_fn=<MeanBackward0>)\n",
      "tensor(0.0001, dtype=torch.float64, grad_fn=<MeanBackward0>)\n",
      "tensor(0.0001, dtype=torch.float64, grad_fn=<MeanBackward0>)\n",
      "tensor(0.0001, dtype=torch.float64, grad_fn=<MeanBackward0>)\n",
      "tensor(0.0001, dtype=torch.float64, grad_fn=<MeanBackward0>)\n",
      "tensor(0.0001, dtype=torch.float64, grad_fn=<MeanBackward0>)\n",
      "tensor(0.0001, dtype=torch.float64, grad_fn=<MeanBackward0>)\n",
      "tensor(0.0001, dtype=torch.float64, grad_fn=<MeanBackward0>)\n",
      "tensor(0.0001, dtype=torch.float64, grad_fn=<MeanBackward0>)\n",
      "tensor(0.0001, dtype=torch.float64, grad_fn=<MeanBackward0>)\n",
      "tensor(0.0001, dtype=torch.float64, grad_fn=<MeanBackward0>)\n",
      "tensor(0.0001, dtype=torch.float64, grad_fn=<MeanBackward0>)\n",
      "tensor(0.0001, dtype=torch.float64, grad_fn=<MeanBackward0>)\n",
      "tensor(0.0001, dtype=torch.float64, grad_fn=<MeanBackward0>)\n",
      "tensor(0.0001, dtype=torch.float64, grad_fn=<MeanBackward0>)\n",
      "tensor(0.0001, dtype=torch.float64, grad_fn=<MeanBackward0>)\n",
      "tensor(0.0001, dtype=torch.float64, grad_fn=<MeanBackward0>)\n",
      "tensor(0.0001, dtype=torch.float64, grad_fn=<MeanBackward0>)\n",
      "tensor(0.0001, dtype=torch.float64, grad_fn=<MeanBackward0>)\n",
      "tensor(0.0001, dtype=torch.float64, grad_fn=<MeanBackward0>)\n"
     ]
    }
   ],
   "source": [
    "optimizer=optim.AdamW(worker_ode.parameters(), lr=1e-3)\n",
    "scheduler = optim.lr_scheduler.ReduceLROnPlateau(optimizer, mode='min', patience=20)\n",
    "\n",
    "\n",
    "\n",
    "\n",
    "\n",
    "\n",
    "for i in range(0,100,1):\n",
    "\n",
    "    scheduler_step=True\n",
    "    optimizer.zero_grad()\n",
    "    loss = loss_func()\n",
    "    print(loss)\n",
    "    \n",
    "    get_loss_per_iteration.append(loss.detach().numpy())\n",
    "    loss.backward()\n",
    "    optimizer.step()\n",
    "    # print(loss.backward())\n",
    "    if scheduler_step:\n",
    "        scheduler.step(loss)\n",
    "\n",
    "    for name,param in worker_ode.named_parameters():\n",
    "        if name==\"a\":\n",
    "            a_per_iteration.append(param.clone().detach().numpy())\n",
    "        elif name==\"Ks\":\n",
    "            Ks_per_iteration.append(param.clone().detach().numpy())\n",
    "        elif name==\"ms\":\n",
    "            ms_per_iteration.append(param.clone().detach().numpy())\n",
    "        elif name==\"qsmax\":\n",
    "            qsmax_per_iteration.append(param.clone().detach().numpy())\n",
    "\n"
   ]
  },
  {
   "cell_type": "code",
   "execution_count": 9,
   "metadata": {},
   "outputs": [
    {
     "data": {
      "text/plain": [
       "Text(0, 0.5, 'Parameter value')"
      ]
     },
     "execution_count": 9,
     "metadata": {},
     "output_type": "execute_result"
    },
    {
     "data": {
      "image/png": "[encoded data removed]",
      "text/plain": [
       "<Figure size 360x360 with 1 Axes>"
      ]
     },
     "metadata": {
      "needs_background": "light"
     },
     "output_type": "display_data"
    }
   ],
   "source": [
    "fig,ax=plt.subplots(figsize=(5,5))\n",
    "plt.title(\"Batch bioprocess parameter optimization\")\n",
    "plt.plot(a_per_iteration, label=\"a\",c=\"#00468BFF\",linewidth=4)\n",
    "plt.plot(qsmax_per_iteration,label=\"qsmax\",c=\"#ED0000FF\",linewidth=4)\n",
    "plt.plot(ms_per_iteration,label=\"ms\",c=\"#1B1919FF\",linewidth=4)\n",
    "plt.plot(Ks_per_iteration,label=\"Ks\",c=\"#925E9FFF\",linewidth=4)\n",
    "\n",
    "plt.axhline(-1.6,label=\"True a\",c=\"#00468BFF\",linestyle=\"--\")\n",
    "plt.axhline(-0.3,label=\"True qsmax\",c=\"#ED0000FF\",linestyle=\"--\")\n",
    "plt.axhline(-0.01,label=\"True ms\",c=\"#1B1919FF\",linestyle=\"--\")\n",
    "plt.axhline(0.01,label=\"True Ks\",c=\"#925E9FFF\",linestyle=\"--\")\n",
    "\n",
    "plt.yscale(\"linear\")\n",
    "\n",
    "ax.legend(bbox_to_anchor=(1,1))\n",
    "plt.xlabel(\"Iteration\")\n",
    "plt.ylabel(\"Parameter value\")"
   ]
  },
  {
   "cell_type": "code",
   "execution_count": 14,
   "metadata": {},
   "outputs": [
    {
     "data": {
      "text/plain": [
       "Text(0, 0.5, 'Loss')"
      ]
     },
     "execution_count": 14,
     "metadata": {},
     "output_type": "execute_result"
    },
    {
     "data": {
      "image/png": "[encoded data removed]",
      "text/plain": [
       "<Figure size 432x288 with 1 Axes>"
      ]
     },
     "metadata": {
      "needs_background": "light"
     },
     "output_type": "display_data"
    }
   ],
   "source": [
    "plt.plot(get_loss_per_iteration[0:100],c=\"#1B1919FF\",linewidth=2)\n",
    "plt.xlabel(\"Iteration\")\n",
    "plt.ylabel(\"Loss\")"
   ]
  },
  {
   "cell_type": "code",
   "execution_count": 21,
   "metadata": {},
   "outputs": [
    {
     "data": {
      "text/plain": [
       "<matplotlib.legend.Legend at 0x7fec76bcb7f0>"
      ]
     },
     "execution_count": 21,
     "metadata": {},
     "output_type": "execute_result"
    },
    {
     "data": {
      "image/png": "[encoded data removed]",
      "text/plain": [
       "<Figure size 432x288 with 1 Axes>"
      ]
     },
     "metadata": {
      "needs_background": "light"
     },
     "output_type": "display_data"
    }
   ],
   "source": [
    "# TRUE DYnamics\n",
    "\n",
    "qsmax=-0.3 #CmolS.Cmolx-1.h_1\n",
    "Ks=0.01 #Cmol.S.L-1\n",
    "a= -1.6 #S requirement for biomass\n",
    "ms=-0.01 #CmolS.Cmolx-1.h-1\n",
    "\n",
    "\n",
    "#Initial conditions\n",
    "Cs=3 #Cmol.L-1\n",
    "Cx=0.01 #Cmol.L-1\n",
    "Vl=1\n",
    "\n",
    "\n",
    "\n",
    "t = np.linspace(0, 50, 100)\n",
    "sol = solve_ivp(Batch, [0, 50], [3, 0.01], args=(qsmax,Ks,a,ms),t_eval=t,method=\"LSODA\")\n",
    "    \n",
    "\n",
    "z = sol.y.T\n",
    "\n",
    "plt.plot(t,z[:,0],label=\"Glucose true\")\n",
    "plt.plot(t,z[:,1],label=\"Biomass true\")\n",
    "plt.xlabel(\"Time (in hours)\")\n",
    "plt.ylabel(\"Concentration (in Cmol/L)\")\n",
    "plt.title(\"Biomass production and glucose uptake\")          \n",
    "plt.legend()\n",
    "# plt.show()\n",
    "\n",
    "#initial dynamics\n",
    "qsmax=param1 #CmolS.Cmolx-1.h_1\n",
    "Ks=param2 #Cmol.S.L-1\n",
    "a= param3 #S requirement for biomass\n",
    "ms=param4 #CmolS.Cmolx-1.h-1\n",
    "\n",
    "\n",
    "t = np.linspace(0, 50, 100)\n",
    "sol_init = solve_ivp(Batch, [0, 50], [3, 0.01], args=(qsmax,Ks,a,ms),t_eval=t,method=\"LSODA\")\n",
    "    \n",
    "z2 = sol_init.y.T\n",
    "plt.plot(t,z2[:,0],label=\"Glucose initial dynamics\")\n",
    "plt.plot(t,z2[:,1],label=\"Biomass initial dynamics\")\n",
    "plt.xlabel(\"Time (in hours)\")\n",
    "plt.ylabel(\"Concentration (in Cmol/L)\")\n",
    "plt.title(\"Biomass production and glucose uptake\")          \n",
    "plt.legend()\n",
    "\n",
    "#learned dynamics\n",
    "\n",
    "\n",
    "\n",
    "\n",
    "\n",
    "\n",
    "\n",
    "\n",
    "#learned dynamics\n",
    "\n",
    "qsmax=optimizer.param_groups[0]['params'][0].detach().numpy()\n",
    "Ks=optimizer.param_groups[0]['params'][1].detach().numpy()\n",
    "a= optimizer.param_groups[0]['params'][2].detach().numpy()\n",
    "ms=optimizer.param_groups[0]['params'][3].detach().numpy()\n",
    "\n",
    "t = np.linspace(0, 50, 1000)\n",
    "sol_learned = solve_ivp(Batch, [0, 50], [3.0, 0.01], args=(qsmax,Ks,a,ms),t_eval=t,method=\"LSODA\")\n",
    "# print(optimizer.param_groups)\n",
    "\n",
    "z3 = sol_learned.y.T\n",
    "\n",
    "\n",
    "plt.plot(t,z3[:,0],label=\"Glucose learned\")\n",
    "plt.plot(t,z3[:,1],label=\"Biomass learned\")\n",
    "plt.xlabel(\"Time (in hours)\")\n",
    "plt.ylabel(\"Concentration (in Cmol/L)\")\n",
    "plt.title(\"Biomass production and glucose uptake\") \n",
    "\n",
    "plt.legend(bbox_to_anchor=(1,1))\n",
    "# plt.show()\n"
   ]
  },
  {
   "cell_type": "code",
   "execution_count": null,
   "metadata": {},
   "outputs": [
    {
     "data": {
      "text/plain": [
       "array(-0.29924336, dtype=float32)"
      ]
     },
     "execution_count": 72,
     "metadata": {},
     "output_type": "execute_result"
    }
   ],
   "source": [
    "qsmax"
   ]
  }
 ],
 "metadata": {
  "kernelspec": {
   "display_name": "base",
   "language": "python",
   "name": "python3"
  },
  "language_info": {
   "codemirror_mode": {
    "name": "ipython",
    "version": 3
   },
   "file_extension": ".py",
   "mimetype": "text/x-python",
   "name": "python",
   "nbconvert_exporter": "python",
   "pygments_lexer": "ipython3",
   "version": "3.8.16"
  },
  "orig_nbformat": 4
 },
 "nbformat": 4,
 "nbformat_minor": 2
}
